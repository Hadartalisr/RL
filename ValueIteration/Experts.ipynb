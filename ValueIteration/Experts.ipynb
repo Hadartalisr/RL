{
 "cells": [
  {
   "cell_type": "code",
   "execution_count": 2,
   "id": "initial_id",
   "metadata": {
    "collapsed": true,
    "ExecuteTime": {
     "end_time": "2024-03-15T13:57:56.361712Z",
     "start_time": "2024-03-15T13:57:55.402494Z"
    }
   },
   "outputs": [],
   "source": [
    "import numpy as np\n",
    "import matplotlib.pyplot as plt\n"
   ]
  },
  {
   "cell_type": "code",
   "outputs": [
    {
     "name": "stdout",
     "output_type": "stream",
     "text": [
      "[[0. 0. 0. 0.]\n",
      " [0. 0. 0. 0.]\n",
      " [0. 0. 0. 0.]\n",
      " [0. 0. 0. 0.]]\n"
     ]
    }
   ],
   "source": [
    "def r1 (x):  # if x is binary, then equivalent to NOT\n",
    "    return 1-x \n",
    "\n",
    "def r2 (x):  # if x is binary, then equivalent to IDENTITY\n",
    "    return x\n",
    "\n",
    "# create tensor of size(T+1 X T+1 X 2) to store the cumulative loss (regret) of this step and the following steps \n",
    "# the first index is the number of times r1 is chosen, the second index is the number of times r2 is chosen \n",
    "# the third index is the cumulative future loss with respect to e1 and e2 \n",
    "def get_regret_tensor(T):\n",
    "    regret_tensor = np.zeros((T+1, T+1, 2))\n",
    "    return regret_tensor\n",
    "\n",
    "# the probability tensor is a tensor of size (T+1 X T+1 X 1) to store the probability of choosing r1 (choosing r2 is 1 - probability of choosing r1)\n",
    "def get_probability_matrix(T):\n",
    "    probability_matrix = np.zeros((T+1, T+1))\n",
    "    return probability_matrix\n",
    "\n",
    "\n",
    "T = 3\n",
    "regret_tensor = get_regret_tensor(T)\n",
    "P = get_probability_matrix(T)\n",
    "\n",
    "\n",
    "\n",
    "\n",
    "def find_p(regret_tensor, i, j):\n",
    "    \n",
    "\n",
    "\n",
    "print (P)"
   ],
   "metadata": {
    "collapsed": false,
    "ExecuteTime": {
     "end_time": "2024-03-15T14:16:57.589779Z",
     "start_time": "2024-03-15T14:16:57.585763Z"
    }
   },
   "id": "4bd3538866e8ed23",
   "execution_count": 5
  },
  {
   "cell_type": "code",
   "outputs": [],
   "source": [],
   "metadata": {
    "collapsed": false
   },
   "id": "f8660d5a36c41654"
  }
 ],
 "metadata": {
  "kernelspec": {
   "display_name": "Python 3",
   "language": "python",
   "name": "python3"
  },
  "language_info": {
   "codemirror_mode": {
    "name": "ipython",
    "version": 2
   },
   "file_extension": ".py",
   "mimetype": "text/x-python",
   "name": "python",
   "nbconvert_exporter": "python",
   "pygments_lexer": "ipython2",
   "version": "2.7.6"
  }
 },
 "nbformat": 4,
 "nbformat_minor": 5
}
