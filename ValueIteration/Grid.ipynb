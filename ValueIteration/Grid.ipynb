{
 "cells": [
  {
   "cell_type": "code",
   "execution_count": 1,
   "id": "initial_id",
   "metadata": {
    "collapsed": true,
    "ExecuteTime": {
     "end_time": "2024-03-08T08:37:10.495990Z",
     "start_time": "2024-03-08T08:37:10.074358Z"
    }
   },
   "outputs": [],
   "source": [
    "import numpy as np\n",
    "import matplotlib.pyplot as plt\n"
   ]
  },
  {
   "cell_type": "code",
   "outputs": [],
   "source": [
    "# In this code, we will demonstrate Value iteration algorithm for a simple grid world problem\n",
    "# The grid world is a 4x4 grid with 16 states. The agent can move in 4 directions: up, down, left, right\n",
    "# Except for the boundary states, the agent can move in all 4 directions from any state\n",
    "# The agent receives a reward of -1 for each step and the episode ends when the agent reaches the terminal state\n",
    "# which is the state in the top left corner of the grid or the left right corner of the grid \n",
    "# The agent receives a reward of 0 at the terminal state\n",
    "# The goal of the agent is to find the optimal policy that maximizes the expected cumulative reward\n",
    "\n",
    "# The value iteration algorithm is an iterative algorithm that updates the value of each state based on the Bellman equation\n",
    "# The Bellman equation is a recursive equation that expresses the value of a state in terms of the values of its neighboring states\n",
    "# The value of a state is the expected cumulative reward that the agent can achieve from that state onwards\n",
    "# The Bellman equation is given by:\n",
    "# V(s) = max_a (R(s,a) + gamma * sum_s' P(s'|s,a) * V(s'))\n",
    "# where V(s) is the value of state s, R(s,a) is the reward that the agent receives when it takes action a from state s\n",
    "# gamma is the discount factor, P(s'|s,a) is the probability of transitioning to state s' when the agent takes action a from state s\n",
    "# V(s') is the value of state s'\n",
    "\n",
    "# The value iteration algorithm starts with an initial estimate of the value of each state and iteratively updates the value of each state\n",
    "# based on the Bellman equation. The algorithm continues to update the value of each state until the values converge\n",
    "# The optimal policy can be obtained from the optimal value function by selecting the action that maximizes the value of each state\n"
   ],
   "metadata": {
    "collapsed": false,
    "ExecuteTime": {
     "end_time": "2024-03-08T08:37:10.496313Z",
     "start_time": "2024-03-08T08:37:10.485003Z"
    }
   },
   "id": "cc8c4a998b578111",
   "execution_count": 2
  },
  {
   "cell_type": "code",
   "outputs": [],
   "source": [
    "# The grid world is a 4x4 grid with n = 16 states\n",
    "# The states are numbered as follows:\n",
    "# 0  1  2  3\n",
    "# 4  5  6  7\n",
    "# 8  9  10 11\n",
    "# 12 13 14 15\n",
    "S = np.arange(16) \n",
    "\n",
    "# The terminal states are states 0 and 15\n",
    "# The agent receives a reward of 0 at the terminal state\n",
    "# The agent receives a reward of -1 for each step\n",
    "# The agent can move in 4 directions: up, down, left, right\n",
    "# actions are represented as follows:\n",
    "# top = 0\n",
    "# right = 1\n",
    "# down = 2\n",
    "# left = 3\n",
    "A = np.arange(4)\n",
    "\n",
    "# Discount factor\n",
    "gamma = 1\n",
    "\n",
    "# The transition probabilities are represented as a 3D array where the first dimension corresponds to the state \n",
    "# the second dimension corresponds to the action and the third dimension corresponds to the next state\n",
    "# the value of the transition probability P(s'|s,a) is stored in the 3D array as P[s,a,s']\n",
    "                    \n",
    "# create a function to calculate P of size n x m x n for a grid world of size h x w (h and w are input of the height and width of the grid)\n",
    "def calculate_P(h, w):\n",
    "    n = h * w\n",
    "    P = np.zeros((n,4,n))\n",
    "    for i in range(n):\n",
    "        for j in range(4):\n",
    "            if i == 0 or i == n-1:\n",
    "                P[i,j,i] = 1\n",
    "            else:\n",
    "                if j == 0:\n",
    "                    if i-w >= 0:\n",
    "                        P[i,j,i-w] = 1\n",
    "                    else:\n",
    "                        P[i,j,i] = 1\n",
    "                if j == 1:\n",
    "                    if (i+1)%w != 0:\n",
    "                        P[i,j,i+1] = 1\n",
    "                    else:\n",
    "                        P[i,j,i] = 1\n",
    "                if j == 2:\n",
    "                    if i+w <= n-1:\n",
    "                        P[i,j,i+w] = 1\n",
    "                    else:\n",
    "                        P[i,j,i] = 1\n",
    "                if j == 3:\n",
    "                    if i%w != 0:\n",
    "                        P[i,j,i-1] = 1\n",
    "                    else:\n",
    "                        P[i,j,i] = 1\n",
    "    return P\n",
    "\n",
    "\n",
    "# create a function that takes indices (i,j) where 0<=i<h and 0<=j<w as input and returns the state number\n",
    "def get_state_number(i, j, h, w):\n",
    "    return i*w + j \n",
    "\n",
    "\n",
    "# create a function that creates obstacles in the grid world which the agent cannot move to \n",
    "# the function takes the grid world, and indices (i,j) where 0<=i<h and 0<=j<w as input\n",
    "# and updates the transition probabilities P of the grid world such that the agent cannot move to the nodes (it checks the 4 directions)\n",
    "def create_obstacles(P, obstacles, h, w):\n",
    "    for i in range(h):\n",
    "        for j in range(w):\n",
    "            if (i,j) in obstacles:\n",
    "                obstacle_s = get_state_number(i, j, h, w)\n",
    "                P[obstacle_s] = 0\n",
    "                # using numpy if s' in P is the state of the obstacle, set P[s,a,s'] = 0 for all a and P[s,a,s] = 1\n",
    "                for state in range(len(P)):\n",
    "                    for action in range(len(P[state])):\n",
    "                        if P[state, action, obstacle_s] == 1:\n",
    "                            P[state, action, obstacle_s] = 0\n",
    "                            P[state, action, state] = 1\n",
    "    return P\n",
    "\n",
    "\n",
    "# create a function which generates R matrix for the rewards of each state and action\n",
    "# all the rewards are -1 except for the terminal states where the rewards are 0\n",
    "#the function takes the grid world, and array of (i,j) - the terminal states as input\n",
    "def calculate_R(P, terminal_states):\n",
    "    n, m = P.shape[0], P.shape[1]\n",
    "    R = np.full((n,m), -1)\n",
    "    for i, j in terminal_states:\n",
    "        terminal_s = get_state_number(i, j, h, w)\n",
    "        R[terminal_s] = 0\n",
    "    return R\n",
    "\n",
    "\n",
    "# create a function to print the value function of the grid world with spaces between the values\n",
    "def print_v(V, h, w):\n",
    "    V_mat = np.reshape(V, (h, w))\n",
    "    # Set the printing options for NumPy arrays\n",
    "    np.set_printoptions(precision=2, suppress=True)\n",
    "    # Print the matrix\n",
    "    print(V_mat)\n",
    "\n",
    "\n",
    "# create a policy pi of size n x m\n",
    "# initialize the policy to equiprobable random policy\n",
    "def initialize_policy(P):\n",
    "    n = P.shape[0]\n",
    "    m = P.shape[1]\n",
    "    pi = np.full((n,m), 1/m)\n",
    "    return pi\n",
    "\n",
    "\n",
    "def draw_grid(h, w, obstacles, terminal_states, pi):\n",
    "    grid = np.zeros((h, w, 3))  # Initialize grid with zeros (white)\n",
    "\n",
    "    # Color obstacles as black\n",
    "    for obstacle in obstacles:\n",
    "        i, j = obstacle\n",
    "        grid[i, j] = [1, 0, 0]  # RGB for black\n",
    "\n",
    "    # Color terminal states as green\n",
    "    for terminal_state in terminal_states:\n",
    "        i, j = terminal_state\n",
    "        grid[i, j] = [0, 1, 0]  # RGB for green\n",
    "\n",
    "    # Draw the grid\n",
    "    plt.imshow(grid)\n",
    "    plt.title(\"Grid World\")\n",
    "    # plt.xticks(range(w))\n",
    "    # plt.yticks(range(h))\n",
    "    # plt.grid()\n",
    "    \n",
    "    \n",
    "    # Add arrows based on policy\n",
    "    for i in range(h):\n",
    "        for j in range(w):\n",
    "            if (i, j) not in obstacles:\n",
    "                s = get_state_number(i, j, h, w)\n",
    "                for a in range(len(A)):\n",
    "                    if pi[s, a] != 0:\n",
    "                        if a == 0:  # up\n",
    "                            plt.arrow(j, i+0.1, 0, -0.3, head_width=0.1, head_length=0.1, fc='r', ec='r')\n",
    "                        elif a == 1:  # right\n",
    "                            plt.arrow(j, i, 0.3, 0, head_width=0.1, head_length=0.1, fc='r', ec='r')\n",
    "                        elif a == 2:  # down\n",
    "                            plt.arrow(j, i-0.1, 0, 0.3, head_width=0.1, head_length=0.1, fc='r', ec='r')\n",
    "                        elif a == 3:  # left\n",
    "                            plt.arrow(j, i, -0.3, 0, head_width=0.1, head_length=0.1, fc='r', ec='r')\n",
    "    \n",
    "    plt.show()\n",
    "    \n",
    "\n",
    "def get_MDP(h, w, obstacles, terminal_nodes):\n",
    "    P = calculate_P(h, w)\n",
    "    P = create_obstacles(P, obstacles, h, w)\n",
    "    R = calculate_R(P, terminal_nodes)\n",
    "    pi = initialize_policy(P)\n",
    "    return P, R, pi\n",
    "\n",
    "\n",
    "# create a value iteration function which takes the V, R, P, gamma and policy pi as input\n",
    "# and returns the value function for the given policy\n",
    "def one_value_iteration(V, R, P, gamma, pi):\n",
    "    #initialize the new value function\n",
    "    V_new = np.zeros(len(V))\n",
    "    #iterate over each state\n",
    "    for s in range(len(V)):\n",
    "        #initialize the action value\n",
    "        action_value = 0\n",
    "        #iterate over each action\n",
    "        for a in range(len(pi[0])):\n",
    "            #calculate the action value based on the Bellman equation\n",
    "            action_value += pi[s,a] * (R[s,a] + gamma * np.sum(P[s,a] * V))\n",
    "        #update the value function\n",
    "        V_new[s] = action_value\n",
    "    return V_new\n",
    "\n",
    "\n",
    "# value iteration algorithm returns the optimal value function for the given policy pi\n",
    "def value_iteration(R, P, gamma, pi, epsilon, max_iter = 1000):\n",
    "    #initialize the value function\n",
    "    V = np.zeros(len(R))\n",
    "    #initialize the change in value function\n",
    "    delta = float('inf')\n",
    "    #iterate until the change in value function is less than epsilon\n",
    "    while delta > epsilon and max_iter > 0:\n",
    "        #update the value function\n",
    "        V_new = one_value_iteration(V, R, P, gamma, pi)\n",
    "        #calculate the change in value function\n",
    "        delta = np.max(np.abs(V_new - V))\n",
    "        #update the value function\n",
    "        V = V_new\n",
    "        max_iter -= 1\n",
    "    return V\n",
    "\n",
    "\n",
    "def calculate_greedy_policy(V, R, P, gamma):\n",
    "    n, m = R.shape\n",
    "    new_pi = np.zeros((n,m))\n",
    "    for s in range(n):\n",
    "        action_values = np.zeros(m)\n",
    "        for a in range(m):\n",
    "            action_values[a] = R[s,a] + gamma * np.sum(P[s,a] * V)\n",
    "        new_pi[s, np.argmax(action_values)] = 1\n",
    "    return new_pi\n",
    "        \n",
    "\n"
   ],
   "metadata": {
    "collapsed": false,
    "ExecuteTime": {
     "end_time": "2024-03-08T08:37:10.507332Z",
     "start_time": "2024-03-08T08:37:10.499700Z"
    }
   },
   "id": "24f9cc901f74b26a",
   "execution_count": 3
  },
  {
   "cell_type": "code",
   "outputs": [
    {
     "data": {
      "text/plain": "<Figure size 640x480 with 1 Axes>",
      "image/png": "[encoded data removed]"
     },
     "metadata": {},
     "output_type": "display_data"
    }
   ],
   "source": [
    "(h, w) = (5, 10)\n",
    "terminal_states = [(0,0), (h-1, w-1)]\n",
    "obstacles = [(0,1),(1,1), (2,2), (0,6), (1,6), (2,6),(2,7), (4,6)]\n",
    "\n",
    "P, R, pi = get_MDP(h, w, obstacles, terminal_states)\n",
    "draw_grid(h, w, obstacles, terminal_states, pi)"
   ],
   "metadata": {
    "collapsed": false,
    "ExecuteTime": {
     "end_time": "2024-03-08T08:37:10.628945Z",
     "start_time": "2024-03-08T08:37:10.506570Z"
    }
   },
   "id": "71698ae64dc75fa1",
   "execution_count": 4
  },
  {
   "cell_type": "code",
   "outputs": [
    {
     "name": "stdout",
     "output_type": "stream",
     "text": [
      "Grid World after the first policy iteration\n"
     ]
    },
    {
     "data": {
      "text/plain": "<Figure size 640x480 with 1 Axes>",
      "image/png": "[encoded data removed]"
     },
     "metadata": {},
     "output_type": "display_data"
    }
   ],
   "source": [
    "V = value_iteration(R, P, gamma, pi, 0.5, 10)\n",
    "pi = calculate_greedy_policy(V, R, P, gamma)\n",
    "print(\"Grid World after the first policy iteration\")\n",
    "draw_grid(h, w, obstacles, terminal_states, pi)"
   ],
   "metadata": {
    "collapsed": false,
    "ExecuteTime": {
     "end_time": "2024-03-08T08:37:10.708283Z",
     "start_time": "2024-03-08T08:37:10.636732Z"
    }
   },
   "id": "f5345b7c8af0d807",
   "execution_count": 5
  },
  {
   "cell_type": "code",
   "outputs": [],
   "source": [
    "# create a function which implements the Policy Iteration algorithm\n",
    "def policy_iteration(R, P, gamma, epsilon = 0, max_iter = 10):\n",
    "    #initialize the value function\n",
    "    V = np.zeros(len(R))\n",
    "    #initialize the policy\n",
    "    pi = initialize_policy(P)\n",
    "    #initialize the change in policy\n",
    "    policy_delta = float('inf')\n",
    "    #iterate until the change in policy is less than epsilon\n",
    "    while policy_delta > epsilon:\n",
    "        #update the value function\n",
    "        V = value_iteration(R, P, gamma, pi, epsilon, max_iter)\n",
    "        #update the policy\n",
    "        new_pi = calculate_greedy_policy(V, R, P, gamma)\n",
    "        #calculate the change in policy\n",
    "        policy_delta = np.max(np.abs(new_pi - pi))\n",
    "        #update the policy\n",
    "        pi = new_pi\n",
    "    return V, pi\n"
   ],
   "metadata": {
    "collapsed": false,
    "ExecuteTime": {
     "end_time": "2024-03-08T08:37:10.708609Z",
     "start_time": "2024-03-08T08:37:10.706455Z"
    }
   },
   "id": "9041d4a017ebd402",
   "execution_count": 6
  },
  {
   "cell_type": "code",
   "outputs": [
    {
     "name": "stdout",
     "output_type": "stream",
     "text": [
      "Value function after policy iteration\n"
     ]
    },
    {
     "data": {
      "text/plain": "<Figure size 640x480 with 1 Axes>",
      "image/png": "[encoded data removed]"
     },
     "metadata": {},
     "output_type": "display_data"
    }
   ],
   "source": [
    "V, pi = policy_iteration(R, P, gamma)\n",
    "print(\"Value function after policy iteration\")\n",
    "draw_grid(h, w, obstacles, terminal_states, pi)"
   ],
   "metadata": {
    "collapsed": false,
    "ExecuteTime": {
     "end_time": "2024-03-08T08:37:10.798097Z",
     "start_time": "2024-03-08T08:37:10.723549Z"
    }
   },
   "id": "adaee0fad95c1f25",
   "execution_count": 7
  },
  {
   "cell_type": "code",
   "outputs": [],
   "source": [
    "\n"
   ],
   "metadata": {
    "collapsed": false,
    "ExecuteTime": {
     "end_time": "2024-03-08T08:37:10.798422Z",
     "start_time": "2024-03-08T08:37:10.795315Z"
    }
   },
   "id": "1978c97b2371fa98",
   "execution_count": 7
  },
  {
   "cell_type": "code",
   "outputs": [],
   "source": [],
   "metadata": {
    "collapsed": false,
    "ExecuteTime": {
     "end_time": "2024-03-08T08:37:10.799405Z",
     "start_time": "2024-03-08T08:37:10.797422Z"
    }
   },
   "id": "518f8f8953e6db6",
   "execution_count": 7
  }
 ],
 "metadata": {
  "kernelspec": {
   "display_name": "Python 3",
   "language": "python",
   "name": "python3"
  },
  "language_info": {
   "codemirror_mode": {
    "name": "ipython",
    "version": 2
   },
   "file_extension": ".py",
   "mimetype": "text/x-python",
   "name": "python",
   "nbconvert_exporter": "python",
   "pygments_lexer": "ipython2",
   "version": "2.7.6"
  }
 },
 "nbformat": 4,
 "nbformat_minor": 5
}
