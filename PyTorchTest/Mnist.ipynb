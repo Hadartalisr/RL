{
 "cells": [
  {
   "cell_type": "code",
   "execution_count": 102,
   "id": "initial_id",
   "metadata": {
    "collapsed": true,
    "ExecuteTime": {
     "end_time": "2024-03-04T22:07:47.479997Z",
     "start_time": "2024-03-04T22:07:47.475748Z"
    }
   },
   "outputs": [],
   "source": [
    "import numpy as np\n",
    "import matplotlib.pyplot as plt\n",
    "import torch\n",
    "import torch.nn as nn\n",
    "import torchvision"
   ]
  },
  {
   "cell_type": "code",
   "outputs": [],
   "source": [
    "# load mnist.npz file\n",
    "mnist = np.load('./assets/mnist.npz')\n",
    "\n",
    "def to_one_hot(y, n_classes=10):\n",
    "    return np.eye(n_classes)[y]\n",
    "\n"
   ],
   "metadata": {
    "collapsed": false,
    "ExecuteTime": {
     "end_time": "2024-03-04T22:12:31.060071Z",
     "start_time": "2024-03-04T22:12:31.046989Z"
    }
   },
   "id": "695284ed60c37bcf",
   "execution_count": 114
  },
  {
   "cell_type": "code",
   "outputs": [],
   "source": [
    "raw_x_train = torchvision.datasets.MNIST(root='./assets', train=True, download=True)\n",
    "raw_x_test = torchvision.datasets.MNIST(root='./assets', train=False, download=True)"
   ],
   "metadata": {
    "collapsed": false,
    "ExecuteTime": {
     "end_time": "2024-03-05T09:55:51.375904Z",
     "start_time": "2024-03-05T09:55:51.291629Z"
    }
   },
   "id": "84dc93459a64c97d",
   "execution_count": 263
  },
  {
   "cell_type": "code",
   "outputs": [
    {
     "data": {
      "text/plain": "(PIL.Image.Image, int)"
     },
     "execution_count": 264,
     "metadata": {},
     "output_type": "execute_result"
    }
   ],
   "source": [
    "type(raw_x_train[2000][0]) , type(raw_x_train[2000][1])"
   ],
   "metadata": {
    "collapsed": false,
    "ExecuteTime": {
     "end_time": "2024-03-05T09:55:52.619469Z",
     "start_time": "2024-03-05T09:55:52.612891Z"
    }
   },
   "id": "6c723039f43495f7",
   "execution_count": 264
  },
  {
   "cell_type": "code",
   "outputs": [
    {
     "data": {
      "text/plain": "<Figure size 640x480 with 2 Axes>",
      "image/png": "[encoded data removed]"
     },
     "metadata": {},
     "output_type": "display_data"
    }
   ],
   "source": [
    "# plot a random image from both the train and test set with the corresponding label next to each other (make them subplots)\n",
    "fig, ax = plt.subplots(1, 2)\n",
    "ax[0].imshow(raw_x_train[2000][0], cmap='gray')\n",
    "ax[0].set_title(raw_x_train[2000][1])\n",
    "ax[1].imshow(raw_x_test[2000][0], cmap='gray')\n",
    "ax[1].set_title(raw_x_test[2000][1])\n",
    "\n",
    "plt.show()\n"
   ],
   "metadata": {
    "collapsed": false,
    "ExecuteTime": {
     "end_time": "2024-03-05T09:58:07.439171Z",
     "start_time": "2024-03-05T09:58:07.339470Z"
    }
   },
   "id": "f9c9afcfbdf31365",
   "execution_count": 266
  },
  {
   "cell_type": "code",
   "outputs": [
    {
     "name": "stdout",
     "output_type": "stream",
     "text": [
      "torch.Size([28, 200, 28])\n"
     ]
    },
    {
     "data": {
      "text/plain": "<Figure size 640x480 with 1 Axes>",
      "image/png": "[encoded data removed]"
     },
     "metadata": {},
     "output_type": "display_data"
    }
   ],
   "source": [
    "# normalize the data via torchvision.transforms\n",
    "normalized_mean = 0.5 \n",
    "normalized_std = 0.5\n",
    "transform = torchvision.transforms.Compose([torchvision.transforms.ToTensor(), torchvision.transforms.Normalize((normalized_mean,), (normalized_std,))])\n",
    "n = 200\n",
    "\n",
    "dummy = transform(np.array([raw_x_train[i][0] for i in range(n)]))\n",
    "\n",
    "print(dummy.shape)\n",
    "\n",
    "#plot a graph of the dummy tensor values distribution\n",
    "plt.hist(dummy.numpy().flatten(), bins=100)\n",
    "plt.show()\n"
   ],
   "metadata": {
    "collapsed": false,
    "ExecuteTime": {
     "end_time": "2024-03-05T09:17:52.116553Z",
     "start_time": "2024-03-05T09:17:52.006894Z"
    }
   },
   "id": "8bb627f3d62d2eb1",
   "execution_count": 190
  },
  {
   "cell_type": "code",
   "outputs": [],
   "source": [
    "x_train = np.array([transform(np.array(raw_x_train[i][0])).numpy() for i in range(len(raw_x_train))])\n",
    "y_train = np.array([raw_x_train[i][1] for i in range(len(raw_x_train))])\n",
    "x_test = np.array([transform(np.array(raw_x_test[i][0])).numpy() for i in range(len(raw_x_test))])\n",
    "y_test = np.array([raw_x_test[i][1] for i in range(len(raw_x_test))])"
   ],
   "metadata": {
    "collapsed": false,
    "ExecuteTime": {
     "end_time": "2024-03-05T09:58:34.699722Z",
     "start_time": "2024-03-05T09:58:31.183919Z"
    }
   },
   "id": "29b69eb53ddebaa4",
   "execution_count": 267
  },
  {
   "cell_type": "code",
   "outputs": [],
   "source": [
    "# make the y_train one hot\n",
    "# y_train = to_one_hot(y_train)\n",
    "# y_test = to_one_hot(y_test)"
   ],
   "metadata": {
    "collapsed": false,
    "ExecuteTime": {
     "end_time": "2024-03-05T09:25:35.651031Z",
     "start_time": "2024-03-05T09:25:35.639877Z"
    }
   },
   "id": "67fcefa5388081bf",
   "execution_count": 207
  },
  {
   "cell_type": "code",
   "outputs": [],
   "source": [
    "# create train_data_loader\n",
    "train_data_loader = torch.utils.data.DataLoader(\n",
    "    dataset=torch.utils.data.TensorDataset(torch.tensor(x_train, dtype=torch.float32), torch.tensor(y_train, dtype=torch.long)),\n",
    "    batch_size=200,\n",
    "    shuffle=True\n",
    ")"
   ],
   "metadata": {
    "collapsed": false,
    "ExecuteTime": {
     "end_time": "2024-03-05T09:51:16.658917Z",
     "start_time": "2024-03-05T09:51:16.574711Z"
    }
   },
   "id": "53559d1e6c87a15",
   "execution_count": 256
  },
  {
   "cell_type": "code",
   "outputs": [
    {
     "name": "stdout",
     "output_type": "stream",
     "text": [
      "torch.Size([200, 1, 28, 28]) <class 'torch.Tensor'> torch.Size([200]) <class 'torch.Tensor'>\n"
     ]
    }
   ],
   "source": [
    "for i, data in enumerate(train_data_loader):\n",
    "    print(data[0].shape, type(data[0]), data[1].shape, type(data[1]))\n",
    "    break"
   ],
   "metadata": {
    "collapsed": false,
    "ExecuteTime": {
     "end_time": "2024-03-05T10:41:24.212289Z",
     "start_time": "2024-03-05T10:41:24.189911Z"
    }
   },
   "id": "629d45e868c3ef5a",
   "execution_count": 277
  },
  {
   "cell_type": "code",
   "outputs": [
    {
     "name": "stdout",
     "output_type": "stream",
     "text": [
      "torch.Size([200, 1, 28, 28]) <class 'torch.Tensor'> torch.Size([200]) <class 'torch.Tensor'>\n",
      "y_hat shape: torch.Size([200, 10])\n",
      "y shape: torch.Size([200])\n",
      "loss: 2.3349735736846924\n"
     ]
    }
   ],
   "source": [
    "# create a PyTorch CNN as class which inherits from nn.Module\n",
    "class Conv_net(nn.Module):\n",
    "    def __init__(self):\n",
    "        super(Conv_net, self).__init__()\n",
    "        # self.conv1 = nn.Conv2d(in_channels=1, out_channels=16, kernel_size=3, stride=1, padding=1)        \n",
    "        # self.conv2 = nn.Conv2d(in_channels=16, out_channels=32, kernel_size=3, stride=1, padding=1)\n",
    "        \n",
    "        # self.pool = nn.MaxPool2d(kernel_size=2, stride=2, padding=0)\n",
    "\n",
    "        self.fc1 = nn.Linear(in_features=28*28, out_features=32)\n",
    "        self.relu = nn.ReLU()\n",
    "        self.fc2 = nn.Linear(in_features=32, out_features=10)\n",
    "        \n",
    "        \n",
    "    def forward(self, x):\n",
    "        # x = self.pool(self.relu(self.conv1(x)))\n",
    "        # print(x.shape)\n",
    "        # x = self.pool(self.relu(self.conv2(x)))\n",
    "        # print(x.shape)\n",
    "        x = torch.flatten(x, start_dim=1)\n",
    "        # print(x.shape)\n",
    "        x = self.relu(self.fc1(x))\n",
    "        # print(x.shape)\n",
    "        x = self.fc2(x)\n",
    "        # print(x.shape)\n",
    "        return x\n",
    "\n",
    "loss_fn = nn.CrossEntropyLoss()\n",
    "\n",
    "\n",
    "net = Conv_net() \n",
    "for i, data in enumerate(train_data_loader):\n",
    "    print(data[0].shape, type(data[0]), data[1].shape, type(data[1]))\n",
    "    y_hat = net(data[0])\n",
    "    print('y_hat shape:', y_hat.shape)\n",
    "    print('y shape:', data[1].shape)\n",
    "    loss = loss_fn(y_hat, data[1].long())\n",
    "    print('loss:', loss.item())\n",
    "    break\n"
   ],
   "metadata": {
    "collapsed": false,
    "ExecuteTime": {
     "end_time": "2024-03-05T09:58:57.470595Z",
     "start_time": "2024-03-05T09:58:57.461046Z"
    }
   },
   "id": "8aff07134719dd84",
   "execution_count": 269
  },
  {
   "cell_type": "code",
   "outputs": [
    {
     "name": "stdout",
     "output_type": "stream",
     "text": [
      "Epoch 1/100, Batch 1/300, Loss: 0.1340610384941101\n",
      "Epoch 1/100, Batch 101/300, Loss: 0.22228115797042847\n",
      "Epoch 1/100, Batch 201/300, Loss: 0.1522648185491562\n",
      "Epoch 1/100, Train Loss: 0.14341843128204346, Test Loss: 0.1585688292980194\n",
      "Epoch 2/100, Batch 1/300, Loss: 0.1105654165148735\n",
      "Epoch 2/100, Batch 101/300, Loss: 0.21148867905139923\n",
      "Epoch 2/100, Batch 201/300, Loss: 0.12667198479175568\n",
      "Epoch 2/100, Train Loss: 0.13155359029769897, Test Loss: 0.14539310336112976\n",
      "Epoch 3/100, Batch 1/300, Loss: 0.16000093519687653\n",
      "Epoch 3/100, Batch 101/300, Loss: 0.17607572674751282\n",
      "Epoch 3/100, Batch 201/300, Loss: 0.24737757444381714\n",
      "Epoch 3/100, Train Loss: 0.12806446850299835, Test Loss: 0.14567002654075623\n",
      "Epoch 4/100, Batch 1/300, Loss: 0.16724899411201477\n",
      "Epoch 4/100, Batch 101/300, Loss: 0.0766601637005806\n",
      "Epoch 4/100, Batch 201/300, Loss: 0.16621190309524536\n",
      "Epoch 4/100, Train Loss: 0.12011081725358963, Test Loss: 0.13899224996566772\n",
      "Epoch 5/100, Batch 1/300, Loss: 0.14671112596988678\n",
      "Epoch 5/100, Batch 101/300, Loss: 0.18640457093715668\n",
      "Epoch 5/100, Batch 201/300, Loss: 0.16151373088359833\n",
      "Epoch 5/100, Train Loss: 0.11665738373994827, Test Loss: 0.14134694635868073\n",
      "Epoch 6/100, Batch 1/300, Loss: 0.08175443857908249\n",
      "Epoch 6/100, Batch 101/300, Loss: 0.2269243597984314\n",
      "Epoch 6/100, Batch 201/300, Loss: 0.11287879943847656\n",
      "Epoch 6/100, Train Loss: 0.11875589191913605, Test Loss: 0.14337612688541412\n",
      "Epoch 7/100, Batch 1/300, Loss: 0.0929822251200676\n",
      "Epoch 7/100, Batch 101/300, Loss: 0.09212535619735718\n",
      "Epoch 7/100, Batch 201/300, Loss: 0.10250327736139297\n",
      "Epoch 7/100, Train Loss: 0.11044829338788986, Test Loss: 0.13561339676380157\n",
      "Epoch 8/100, Batch 1/300, Loss: 0.09396032989025116\n",
      "Epoch 8/100, Batch 101/300, Loss: 0.08019055426120758\n",
      "Epoch 8/100, Batch 201/300, Loss: 0.06891901791095734\n",
      "Epoch 8/100, Train Loss: 0.11386984586715698, Test Loss: 0.14244292676448822\n",
      "Epoch 9/100, Batch 1/300, Loss: 0.09944644570350647\n",
      "Epoch 9/100, Batch 101/300, Loss: 0.10018304735422134\n",
      "Epoch 9/100, Batch 201/300, Loss: 0.1796828657388687\n",
      "Epoch 9/100, Train Loss: 0.10456676781177521, Test Loss: 0.13330702483654022\n",
      "Epoch 10/100, Batch 1/300, Loss: 0.05365818366408348\n",
      "Epoch 10/100, Batch 101/300, Loss: 0.1122497171163559\n",
      "Epoch 10/100, Batch 201/300, Loss: 0.08927074074745178\n",
      "Epoch 10/100, Train Loss: 0.09848407655954361, Test Loss: 0.13168179988861084\n",
      "Epoch 11/100, Batch 1/300, Loss: 0.09664586186408997\n",
      "Epoch 11/100, Batch 101/300, Loss: 0.07269667088985443\n",
      "Epoch 11/100, Batch 201/300, Loss: 0.05325116589665413\n",
      "Epoch 11/100, Train Loss: 0.09406876564025879, Test Loss: 0.12836958467960358\n",
      "Epoch 12/100, Batch 1/300, Loss: 0.14361883699893951\n",
      "Epoch 12/100, Batch 101/300, Loss: 0.1030053049325943\n",
      "Epoch 12/100, Batch 201/300, Loss: 0.1073327288031578\n",
      "Epoch 12/100, Train Loss: 0.09966135025024414, Test Loss: 0.1342611461877823\n",
      "Epoch 13/100, Batch 1/300, Loss: 0.08207131177186966\n",
      "Epoch 13/100, Batch 101/300, Loss: 0.10434389859437943\n",
      "Epoch 13/100, Batch 201/300, Loss: 0.10946758091449738\n",
      "Epoch 13/100, Train Loss: 0.0904311016201973, Test Loss: 0.12755592167377472\n",
      "Epoch 14/100, Batch 1/300, Loss: 0.09265385568141937\n",
      "Epoch 14/100, Batch 101/300, Loss: 0.11548703908920288\n",
      "Epoch 14/100, Batch 201/300, Loss: 0.051685821264982224\n",
      "Epoch 14/100, Train Loss: 0.09003261476755142, Test Loss: 0.12827062606811523\n",
      "Epoch 15/100, Batch 1/300, Loss: 0.12541502714157104\n",
      "Epoch 15/100, Batch 101/300, Loss: 0.10482211410999298\n",
      "Epoch 15/100, Batch 201/300, Loss: 0.08725213259458542\n",
      "Epoch 15/100, Train Loss: 0.09803169220685959, Test Loss: 0.1386912614107132\n",
      "Epoch 16/100, Batch 1/300, Loss: 0.06268704682588577\n",
      "Epoch 16/100, Batch 101/300, Loss: 0.06443054229021072\n",
      "Epoch 16/100, Batch 201/300, Loss: 0.07544981688261032\n",
      "Epoch 16/100, Train Loss: 0.08820539712905884, Test Loss: 0.12851105630397797\n",
      "Epoch 17/100, Batch 1/300, Loss: 0.09261848777532578\n",
      "Epoch 17/100, Batch 101/300, Loss: 0.04798894748091698\n",
      "Epoch 17/100, Batch 201/300, Loss: 0.1557181179523468\n",
      "Epoch 17/100, Train Loss: 0.08105145394802094, Test Loss: 0.12465120851993561\n",
      "Epoch 18/100, Batch 1/300, Loss: 0.09393351525068283\n",
      "Epoch 18/100, Batch 101/300, Loss: 0.07083333283662796\n",
      "Epoch 18/100, Batch 201/300, Loss: 0.09639495611190796\n",
      "Epoch 18/100, Train Loss: 0.09105449169874191, Test Loss: 0.133467435836792\n",
      "Epoch 19/100, Batch 1/300, Loss: 0.09103330969810486\n",
      "Epoch 19/100, Batch 101/300, Loss: 0.05553453043103218\n",
      "Epoch 19/100, Batch 201/300, Loss: 0.11852772533893585\n",
      "Epoch 19/100, Train Loss: 0.0883115753531456, Test Loss: 0.1328660398721695\n",
      "Epoch 20/100, Batch 1/300, Loss: 0.058442167937755585\n",
      "Epoch 20/100, Batch 101/300, Loss: 0.04913264140486717\n",
      "Epoch 20/100, Batch 201/300, Loss: 0.10970082134008408\n",
      "Epoch 20/100, Train Loss: 0.07615770399570465, Test Loss: 0.12458306550979614\n",
      "Epoch 21/100, Batch 1/300, Loss: 0.06947995722293854\n",
      "Epoch 21/100, Batch 101/300, Loss: 0.04432905092835426\n",
      "Epoch 21/100, Batch 201/300, Loss: 0.062448080629110336\n",
      "Epoch 21/100, Train Loss: 0.08492862433195114, Test Loss: 0.13542376458644867\n",
      "Epoch 22/100, Batch 1/300, Loss: 0.09076148271560669\n",
      "Epoch 22/100, Batch 101/300, Loss: 0.05954449996352196\n",
      "Epoch 22/100, Batch 201/300, Loss: 0.07492797076702118\n",
      "Epoch 22/100, Train Loss: 0.07879643887281418, Test Loss: 0.12918581068515778\n",
      "Epoch 23/100, Batch 1/300, Loss: 0.07873904705047607\n",
      "Epoch 23/100, Batch 101/300, Loss: 0.08965183049440384\n",
      "Epoch 23/100, Batch 201/300, Loss: 0.05586265027523041\n",
      "Epoch 23/100, Train Loss: 0.0767034962773323, Test Loss: 0.12890273332595825\n",
      "Epoch 24/100, Batch 1/300, Loss: 0.043803248554468155\n",
      "Epoch 24/100, Batch 101/300, Loss: 0.09385879337787628\n",
      "Epoch 24/100, Batch 201/300, Loss: 0.0504009835422039\n",
      "Epoch 24/100, Train Loss: 0.07353409379720688, Test Loss: 0.12603071331977844\n",
      "Epoch 25/100, Batch 1/300, Loss: 0.09311036020517349\n",
      "Epoch 25/100, Batch 101/300, Loss: 0.07183746993541718\n",
      "Epoch 25/100, Batch 201/300, Loss: 0.054379530251026154\n",
      "Epoch 25/100, Train Loss: 0.07581000030040741, Test Loss: 0.13204295933246613\n",
      "Epoch 26/100, Batch 1/300, Loss: 0.08709744364023209\n",
      "Epoch 26/100, Batch 101/300, Loss: 0.04227449744939804\n",
      "Epoch 26/100, Batch 201/300, Loss: 0.07403608411550522\n",
      "Epoch 26/100, Train Loss: 0.07544650882482529, Test Loss: 0.13123461604118347\n",
      "Epoch 27/100, Batch 1/300, Loss: 0.14570026099681854\n",
      "Epoch 27/100, Batch 101/300, Loss: 0.08076854795217514\n",
      "Epoch 27/100, Batch 201/300, Loss: 0.0481070838868618\n",
      "Epoch 27/100, Train Loss: 0.06891054660081863, Test Loss: 0.12479031085968018\n",
      "Epoch 28/100, Batch 1/300, Loss: 0.04794182628393173\n",
      "Epoch 28/100, Batch 101/300, Loss: 0.07473124563694\n",
      "Epoch 28/100, Batch 201/300, Loss: 0.04828846454620361\n",
      "Epoch 28/100, Train Loss: 0.06646458804607391, Test Loss: 0.12360825389623642\n",
      "Epoch 29/100, Batch 1/300, Loss: 0.04950109124183655\n",
      "Epoch 29/100, Batch 101/300, Loss: 0.05157233774662018\n",
      "Epoch 29/100, Batch 201/300, Loss: 0.04608446732163429\n",
      "Epoch 29/100, Train Loss: 0.07489510625600815, Test Loss: 0.13597500324249268\n",
      "Epoch 30/100, Batch 1/300, Loss: 0.0655464380979538\n",
      "Epoch 30/100, Batch 101/300, Loss: 0.061648014932870865\n",
      "Epoch 30/100, Batch 201/300, Loss: 0.0449393093585968\n",
      "Epoch 30/100, Train Loss: 0.0718734934926033, Test Loss: 0.13063135743141174\n",
      "Epoch 31/100, Batch 1/300, Loss: 0.12486439943313599\n",
      "Epoch 31/100, Batch 101/300, Loss: 0.07528645545244217\n",
      "Epoch 31/100, Batch 201/300, Loss: 0.03915257379412651\n",
      "Epoch 31/100, Train Loss: 0.07608799636363983, Test Loss: 0.136869415640831\n",
      "Epoch 32/100, Batch 1/300, Loss: 0.060231197625398636\n",
      "Epoch 32/100, Batch 101/300, Loss: 0.07172753661870956\n",
      "Epoch 32/100, Batch 201/300, Loss: 0.07815742492675781\n",
      "Epoch 32/100, Train Loss: 0.0673341304063797, Test Loss: 0.13130992650985718\n",
      "Epoch 33/100, Batch 1/300, Loss: 0.0993218645453453\n",
      "Epoch 33/100, Batch 101/300, Loss: 0.08478665351867676\n",
      "Epoch 33/100, Batch 201/300, Loss: 0.09588436037302017\n",
      "Epoch 33/100, Train Loss: 0.06655234098434448, Test Loss: 0.12840577960014343\n",
      "Epoch 34/100, Batch 1/300, Loss: 0.08565469831228256\n",
      "Epoch 34/100, Batch 101/300, Loss: 0.075102798640728\n",
      "Epoch 34/100, Batch 201/300, Loss: 0.08436968177556992\n",
      "Epoch 34/100, Train Loss: 0.06544702500104904, Test Loss: 0.13358041644096375\n",
      "Epoch 35/100, Batch 1/300, Loss: 0.05743604153394699\n",
      "Epoch 35/100, Batch 101/300, Loss: 0.06146252527832985\n",
      "Epoch 35/100, Batch 201/300, Loss: 0.04473072662949562\n",
      "Epoch 35/100, Train Loss: 0.061417773365974426, Test Loss: 0.1298411786556244\n",
      "Epoch 36/100, Batch 1/300, Loss: 0.13306790590286255\n",
      "Epoch 36/100, Batch 101/300, Loss: 0.046478189527988434\n",
      "Epoch 36/100, Batch 201/300, Loss: 0.11462514102458954\n",
      "Epoch 36/100, Train Loss: 0.06081552058458328, Test Loss: 0.12580832839012146\n",
      "Epoch 37/100, Batch 1/300, Loss: 0.040543727576732635\n",
      "Epoch 37/100, Batch 101/300, Loss: 0.13233861327171326\n",
      "Epoch 37/100, Batch 201/300, Loss: 0.08288408070802689\n",
      "Epoch 37/100, Train Loss: 0.07557272911071777, Test Loss: 0.14406564831733704\n",
      "Epoch 38/100, Batch 1/300, Loss: 0.09829549491405487\n",
      "Epoch 38/100, Batch 101/300, Loss: 0.08875545859336853\n",
      "Epoch 38/100, Batch 201/300, Loss: 0.05715545266866684\n",
      "Epoch 38/100, Train Loss: 0.0675627738237381, Test Loss: 0.13764052093029022\n",
      "Epoch 39/100, Batch 1/300, Loss: 0.049825310707092285\n",
      "Epoch 39/100, Batch 101/300, Loss: 0.07230161875486374\n",
      "Epoch 39/100, Batch 201/300, Loss: 0.06031058728694916\n",
      "Epoch 39/100, Train Loss: 0.07119908183813095, Test Loss: 0.14365334808826447\n",
      "Epoch 40/100, Batch 1/300, Loss: 0.05995588377118111\n",
      "Epoch 40/100, Batch 101/300, Loss: 0.05374994874000549\n",
      "Epoch 40/100, Batch 201/300, Loss: 0.05744877830147743\n",
      "Epoch 40/100, Train Loss: 0.06339319795370102, Test Loss: 0.1360788643360138\n",
      "Epoch 41/100, Batch 1/300, Loss: 0.0827394649386406\n",
      "Epoch 41/100, Batch 101/300, Loss: 0.07645142078399658\n",
      "Epoch 41/100, Batch 201/300, Loss: 0.1060091033577919\n",
      "Epoch 41/100, Train Loss: 0.0695817843079567, Test Loss: 0.14606241881847382\n",
      "Epoch 42/100, Batch 1/300, Loss: 0.10593854635953903\n",
      "Epoch 42/100, Batch 101/300, Loss: 0.05845247581601143\n",
      "Epoch 42/100, Batch 201/300, Loss: 0.08624295890331268\n",
      "Epoch 42/100, Train Loss: 0.05998224765062332, Test Loss: 0.1323520392179489\n",
      "Epoch 43/100, Batch 1/300, Loss: 0.03912174329161644\n",
      "Epoch 43/100, Batch 101/300, Loss: 0.052159346640110016\n",
      "Epoch 43/100, Batch 201/300, Loss: 0.09801444411277771\n",
      "Epoch 43/100, Train Loss: 0.05828734487295151, Test Loss: 0.13669461011886597\n",
      "Epoch 44/100, Batch 1/300, Loss: 0.0647154152393341\n",
      "Epoch 44/100, Batch 101/300, Loss: 0.011645828373730183\n",
      "Epoch 44/100, Batch 201/300, Loss: 0.0591096431016922\n",
      "Epoch 44/100, Train Loss: 0.05720736086368561, Test Loss: 0.13667219877243042\n",
      "Epoch 45/100, Batch 1/300, Loss: 0.0834633857011795\n",
      "Epoch 45/100, Batch 101/300, Loss: 0.03313789516687393\n",
      "Epoch 45/100, Batch 201/300, Loss: 0.1310959756374359\n",
      "Epoch 45/100, Train Loss: 0.05352092534303665, Test Loss: 0.13100259006023407\n",
      "Epoch 46/100, Batch 1/300, Loss: 0.07602165639400482\n",
      "Epoch 46/100, Batch 101/300, Loss: 0.04814491420984268\n",
      "Epoch 46/100, Batch 201/300, Loss: 0.048545628786087036\n",
      "Epoch 46/100, Train Loss: 0.06070103123784065, Test Loss: 0.14099179208278656\n",
      "Epoch 47/100, Batch 1/300, Loss: 0.04821053892374039\n",
      "Epoch 47/100, Batch 101/300, Loss: 0.05416904762387276\n",
      "Epoch 47/100, Batch 201/300, Loss: 0.03894142434000969\n",
      "Epoch 47/100, Train Loss: 0.05816902592778206, Test Loss: 0.13808739185333252\n",
      "Epoch 48/100, Batch 1/300, Loss: 0.05846910551190376\n",
      "Epoch 48/100, Batch 101/300, Loss: 0.06857398897409439\n",
      "Epoch 48/100, Batch 201/300, Loss: 0.05705313757061958\n",
      "Epoch 48/100, Train Loss: 0.057663444429636, Test Loss: 0.14156800508499146\n",
      "Epoch 49/100, Batch 1/300, Loss: 0.03451889008283615\n",
      "Epoch 49/100, Batch 101/300, Loss: 0.068238265812397\n",
      "Epoch 49/100, Batch 201/300, Loss: 0.05340007692575455\n",
      "Epoch 49/100, Train Loss: 0.051749009639024734, Test Loss: 0.13755138218402863\n",
      "Epoch 50/100, Batch 1/300, Loss: 0.03617352619767189\n",
      "Epoch 50/100, Batch 101/300, Loss: 0.02686212584376335\n",
      "Epoch 50/100, Batch 201/300, Loss: 0.03447192162275314\n",
      "Epoch 50/100, Train Loss: 0.057475101202726364, Test Loss: 0.14362777769565582\n",
      "Epoch 51/100, Batch 1/300, Loss: 0.078729048371315\n",
      "Epoch 51/100, Batch 101/300, Loss: 0.033993907272815704\n",
      "Epoch 51/100, Batch 201/300, Loss: 0.06295045465230942\n",
      "Epoch 51/100, Train Loss: 0.05065740644931793, Test Loss: 0.13701499998569489\n",
      "Epoch 52/100, Batch 1/300, Loss: 0.03314053267240524\n",
      "Epoch 52/100, Batch 101/300, Loss: 0.04892038181424141\n",
      "Epoch 52/100, Batch 201/300, Loss: 0.10054486989974976\n",
      "Epoch 52/100, Train Loss: 0.051675885915756226, Test Loss: 0.1346273124217987\n",
      "Epoch 53/100, Batch 1/300, Loss: 0.02293250523507595\n",
      "Epoch 53/100, Batch 101/300, Loss: 0.04820198193192482\n",
      "Epoch 53/100, Batch 201/300, Loss: 0.10164587199687958\n",
      "Epoch 53/100, Train Loss: 0.05532693862915039, Test Loss: 0.14211405813694\n",
      "Epoch 54/100, Batch 1/300, Loss: 0.07440530508756638\n",
      "Epoch 54/100, Batch 101/300, Loss: 0.08161929994821548\n",
      "Epoch 54/100, Batch 201/300, Loss: 0.046391621232032776\n",
      "Epoch 54/100, Train Loss: 0.05856121703982353, Test Loss: 0.1472153514623642\n",
      "Epoch 55/100, Batch 1/300, Loss: 0.03364455699920654\n",
      "Epoch 55/100, Batch 101/300, Loss: 0.05735453590750694\n",
      "Epoch 55/100, Batch 201/300, Loss: 0.07938947528600693\n",
      "Epoch 55/100, Train Loss: 0.0547933429479599, Test Loss: 0.14772334694862366\n",
      "Epoch 56/100, Batch 1/300, Loss: 0.05135432258248329\n",
      "Epoch 56/100, Batch 101/300, Loss: 0.05513431131839752\n",
      "Epoch 56/100, Batch 201/300, Loss: 0.04303339868783951\n",
      "Epoch 56/100, Train Loss: 0.0461636558175087, Test Loss: 0.1380455493927002\n",
      "Epoch 57/100, Batch 1/300, Loss: 0.07304143160581589\n",
      "Epoch 57/100, Batch 101/300, Loss: 0.029770197346806526\n",
      "Epoch 57/100, Batch 201/300, Loss: 0.04966457188129425\n",
      "Epoch 57/100, Train Loss: 0.045284342020750046, Test Loss: 0.13673938810825348\n",
      "Epoch 58/100, Batch 1/300, Loss: 0.05988457798957825\n",
      "Epoch 58/100, Batch 101/300, Loss: 0.04716702923178673\n",
      "Epoch 58/100, Batch 201/300, Loss: 0.07524076104164124\n",
      "Epoch 58/100, Train Loss: 0.04603060334920883, Test Loss: 0.13834132254123688\n",
      "Epoch 59/100, Batch 1/300, Loss: 0.040164340287446976\n",
      "Epoch 59/100, Batch 101/300, Loss: 0.06911638379096985\n",
      "Epoch 59/100, Batch 201/300, Loss: 0.09283260256052017\n",
      "Epoch 59/100, Train Loss: 0.054012127220630646, Test Loss: 0.14323772490024567\n",
      "Epoch 60/100, Batch 1/300, Loss: 0.054643530398607254\n",
      "Epoch 60/100, Batch 101/300, Loss: 0.09312022477388382\n",
      "Epoch 60/100, Batch 201/300, Loss: 0.05764411389827728\n",
      "Epoch 60/100, Train Loss: 0.04783583804965019, Test Loss: 0.14503513276576996\n",
      "Epoch 61/100, Batch 1/300, Loss: 0.046015411615371704\n",
      "Epoch 61/100, Batch 101/300, Loss: 0.0375729501247406\n",
      "Epoch 61/100, Batch 201/300, Loss: 0.037500251084566116\n",
      "Epoch 61/100, Train Loss: 0.04603045806288719, Test Loss: 0.1402800977230072\n",
      "Epoch 62/100, Batch 1/300, Loss: 0.050260916352272034\n",
      "Epoch 62/100, Batch 101/300, Loss: 0.034692950546741486\n",
      "Epoch 62/100, Batch 201/300, Loss: 0.05103330686688423\n",
      "Epoch 62/100, Train Loss: 0.04293021187186241, Test Loss: 0.14043551683425903\n",
      "Epoch 63/100, Batch 1/300, Loss: 0.08165491372346878\n",
      "Epoch 63/100, Batch 101/300, Loss: 0.09124726057052612\n",
      "Epoch 63/100, Batch 201/300, Loss: 0.02631424367427826\n",
      "Epoch 63/100, Train Loss: 0.0470551922917366, Test Loss: 0.14660370349884033\n",
      "Epoch 64/100, Batch 1/300, Loss: 0.03554457798600197\n",
      "Epoch 64/100, Batch 101/300, Loss: 0.038958169519901276\n",
      "Epoch 64/100, Batch 201/300, Loss: 0.10563168674707413\n",
      "Epoch 64/100, Train Loss: 0.04725559428334236, Test Loss: 0.14226314425468445\n",
      "Epoch 65/100, Batch 1/300, Loss: 0.08812928944826126\n",
      "Epoch 65/100, Batch 101/300, Loss: 0.0234660841524601\n",
      "Epoch 65/100, Batch 201/300, Loss: 0.0681600496172905\n",
      "Epoch 65/100, Train Loss: 0.05617673695087433, Test Loss: 0.15642432868480682\n",
      "Epoch 66/100, Batch 1/300, Loss: 0.11821366101503372\n",
      "Epoch 66/100, Batch 101/300, Loss: 0.04459799453616142\n",
      "Epoch 66/100, Batch 201/300, Loss: 0.04166338965296745\n",
      "Epoch 66/100, Train Loss: 0.04656899720430374, Test Loss: 0.14900043606758118\n",
      "Epoch 67/100, Batch 1/300, Loss: 0.06574451178312302\n",
      "Epoch 67/100, Batch 101/300, Loss: 0.05324849486351013\n",
      "Epoch 67/100, Batch 201/300, Loss: 0.06456947326660156\n",
      "Epoch 67/100, Train Loss: 0.042062316089868546, Test Loss: 0.14663763344287872\n",
      "Epoch 68/100, Batch 1/300, Loss: 0.03451613709330559\n",
      "Epoch 68/100, Batch 101/300, Loss: 0.08214255422353745\n",
      "Epoch 68/100, Batch 201/300, Loss: 0.06845404952764511\n",
      "Epoch 68/100, Train Loss: 0.04189328849315643, Test Loss: 0.1391972303390503\n",
      "Epoch 69/100, Batch 1/300, Loss: 0.03267554193735123\n",
      "Epoch 69/100, Batch 101/300, Loss: 0.0364610031247139\n",
      "Epoch 69/100, Batch 201/300, Loss: 0.05468915030360222\n",
      "Epoch 69/100, Train Loss: 0.046927858144044876, Test Loss: 0.1514846384525299\n",
      "Epoch 70/100, Batch 1/300, Loss: 0.029139451682567596\n",
      "Epoch 70/100, Batch 101/300, Loss: 0.0500929020345211\n",
      "Epoch 70/100, Batch 201/300, Loss: 0.040271926671266556\n",
      "Epoch 70/100, Train Loss: 0.04437931627035141, Test Loss: 0.15245775878429413\n",
      "Epoch 71/100, Batch 1/300, Loss: 0.02242412604391575\n",
      "Epoch 71/100, Batch 101/300, Loss: 0.02327318862080574\n",
      "Epoch 71/100, Batch 201/300, Loss: 0.02171119675040245\n",
      "Epoch 71/100, Train Loss: 0.04235721379518509, Test Loss: 0.15289409458637238\n",
      "Epoch 72/100, Batch 1/300, Loss: 0.022839266806840897\n",
      "Epoch 72/100, Batch 101/300, Loss: 0.05740685388445854\n",
      "Epoch 72/100, Batch 201/300, Loss: 0.06221117824316025\n",
      "Epoch 72/100, Train Loss: 0.04309922829270363, Test Loss: 0.15116508305072784\n",
      "Epoch 73/100, Batch 1/300, Loss: 0.05485127121210098\n",
      "Epoch 73/100, Batch 101/300, Loss: 0.04653298482298851\n",
      "Epoch 73/100, Batch 201/300, Loss: 0.026247942820191383\n",
      "Epoch 73/100, Train Loss: 0.05044647306203842, Test Loss: 0.1618107557296753\n",
      "Epoch 74/100, Batch 1/300, Loss: 0.05764048174023628\n",
      "Epoch 74/100, Batch 101/300, Loss: 0.06135854870080948\n",
      "Epoch 74/100, Batch 201/300, Loss: 0.058430932462215424\n",
      "Epoch 74/100, Train Loss: 0.04529782012104988, Test Loss: 0.15587280690670013\n",
      "Epoch 75/100, Batch 1/300, Loss: 0.03507927805185318\n",
      "Epoch 75/100, Batch 101/300, Loss: 0.037744104862213135\n",
      "Epoch 75/100, Batch 201/300, Loss: 0.03228341415524483\n",
      "Epoch 75/100, Train Loss: 0.03847144916653633, Test Loss: 0.14918595552444458\n",
      "Epoch 76/100, Batch 1/300, Loss: 0.0488697774708271\n",
      "Epoch 76/100, Batch 101/300, Loss: 0.02058282680809498\n",
      "Epoch 76/100, Batch 201/300, Loss: 0.040360718965530396\n",
      "Epoch 76/100, Train Loss: 0.03951331228017807, Test Loss: 0.15133656561374664\n",
      "Epoch 77/100, Batch 1/300, Loss: 0.06360258907079697\n",
      "Epoch 77/100, Batch 101/300, Loss: 0.06271082907915115\n",
      "Epoch 77/100, Batch 201/300, Loss: 0.07063016295433044\n",
      "Epoch 77/100, Train Loss: 0.054743360728025436, Test Loss: 0.1729622632265091\n",
      "Epoch 78/100, Batch 1/300, Loss: 0.08712562918663025\n",
      "Epoch 78/100, Batch 101/300, Loss: 0.01560151856392622\n",
      "Epoch 78/100, Batch 201/300, Loss: 0.05373489484190941\n",
      "Epoch 78/100, Train Loss: 0.04021056368947029, Test Loss: 0.15752293169498444\n",
      "Epoch 79/100, Batch 1/300, Loss: 0.03634465113282204\n",
      "Epoch 79/100, Batch 101/300, Loss: 0.02318481169641018\n",
      "Epoch 79/100, Batch 201/300, Loss: 0.030882949009537697\n",
      "Epoch 79/100, Train Loss: 0.04324987158179283, Test Loss: 0.16270406544208527\n",
      "Epoch 80/100, Batch 1/300, Loss: 0.014175479300320148\n",
      "Epoch 80/100, Batch 101/300, Loss: 0.05387723818421364\n",
      "Epoch 80/100, Batch 201/300, Loss: 0.0182882659137249\n",
      "Epoch 80/100, Train Loss: 0.03994197025895119, Test Loss: 0.15443164110183716\n",
      "Epoch 81/100, Batch 1/300, Loss: 0.025345860049128532\n",
      "Epoch 81/100, Batch 101/300, Loss: 0.056124959141016006\n",
      "Epoch 81/100, Batch 201/300, Loss: 0.008436034433543682\n",
      "Epoch 81/100, Train Loss: 0.042628172785043716, Test Loss: 0.16132448613643646\n",
      "Epoch 82/100, Batch 1/300, Loss: 0.015267685987055302\n",
      "Epoch 82/100, Batch 101/300, Loss: 0.025249198079109192\n",
      "Epoch 82/100, Batch 201/300, Loss: 0.02115282602608204\n",
      "Epoch 82/100, Train Loss: 0.03874462842941284, Test Loss: 0.15715259313583374\n",
      "Epoch 83/100, Batch 1/300, Loss: 0.036257658153772354\n",
      "Epoch 83/100, Batch 101/300, Loss: 0.06579330563545227\n",
      "Epoch 83/100, Batch 201/300, Loss: 0.0852678120136261\n",
      "Epoch 83/100, Train Loss: 0.041371576488018036, Test Loss: 0.1609448790550232\n",
      "Epoch 84/100, Batch 1/300, Loss: 0.04392913356423378\n",
      "Epoch 84/100, Batch 101/300, Loss: 0.032131318002939224\n",
      "Epoch 84/100, Batch 201/300, Loss: 0.049113769084215164\n",
      "Epoch 84/100, Train Loss: 0.038127604871988297, Test Loss: 0.15585483610630035\n",
      "Epoch 85/100, Batch 1/300, Loss: 0.03641549125313759\n",
      "Epoch 85/100, Batch 101/300, Loss: 0.01842430979013443\n",
      "Epoch 85/100, Batch 201/300, Loss: 0.029262416064739227\n",
      "Epoch 85/100, Train Loss: 0.03950050473213196, Test Loss: 0.16350045800209045\n",
      "Epoch 86/100, Batch 1/300, Loss: 0.02381518855690956\n",
      "Epoch 86/100, Batch 101/300, Loss: 0.053446006029844284\n",
      "Epoch 86/100, Batch 201/300, Loss: 0.019518965855240822\n",
      "Epoch 86/100, Train Loss: 0.04303207993507385, Test Loss: 0.1648676097393036\n",
      "Epoch 87/100, Batch 1/300, Loss: 0.05888533964753151\n",
      "Epoch 87/100, Batch 101/300, Loss: 0.03289037197828293\n",
      "Epoch 87/100, Batch 201/300, Loss: 0.038082610815763474\n",
      "Epoch 87/100, Train Loss: 0.03283556178212166, Test Loss: 0.1543685793876648\n",
      "Epoch 88/100, Batch 1/300, Loss: 0.04528408870100975\n",
      "Epoch 88/100, Batch 101/300, Loss: 0.0368521586060524\n",
      "Epoch 88/100, Batch 201/300, Loss: 0.06693930923938751\n",
      "Epoch 88/100, Train Loss: 0.03309745341539383, Test Loss: 0.1603696495294571\n",
      "Epoch 89/100, Batch 1/300, Loss: 0.01252475380897522\n",
      "Epoch 89/100, Batch 101/300, Loss: 0.02450249344110489\n",
      "Epoch 89/100, Batch 201/300, Loss: 0.0460309162735939\n",
      "Epoch 89/100, Train Loss: 0.03810307756066322, Test Loss: 0.16670125722885132\n",
      "Epoch 90/100, Batch 1/300, Loss: 0.045800697058439255\n",
      "Epoch 90/100, Batch 101/300, Loss: 0.020628105849027634\n",
      "Epoch 90/100, Batch 201/300, Loss: 0.038018666207790375\n",
      "Epoch 90/100, Train Loss: 0.03701961040496826, Test Loss: 0.16694362461566925\n",
      "Epoch 91/100, Batch 1/300, Loss: 0.05520806834101677\n",
      "Epoch 91/100, Batch 101/300, Loss: 0.05782010033726692\n",
      "Epoch 91/100, Batch 201/300, Loss: 0.039708081632852554\n",
      "Epoch 91/100, Train Loss: 0.035600822418928146, Test Loss: 0.16307957470417023\n",
      "Epoch 92/100, Batch 1/300, Loss: 0.025715528056025505\n",
      "Epoch 92/100, Batch 101/300, Loss: 0.03963117673993111\n",
      "Epoch 92/100, Batch 201/300, Loss: 0.035376306623220444\n",
      "Epoch 92/100, Train Loss: 0.036998677998781204, Test Loss: 0.16917595267295837\n",
      "Epoch 93/100, Batch 1/300, Loss: 0.03438018634915352\n",
      "Epoch 93/100, Batch 101/300, Loss: 0.03956661373376846\n",
      "Epoch 93/100, Batch 201/300, Loss: 0.04606751352548599\n",
      "Epoch 93/100, Train Loss: 0.03703712671995163, Test Loss: 0.16792942583560944\n",
      "Epoch 94/100, Batch 1/300, Loss: 0.034899357706308365\n",
      "Epoch 94/100, Batch 101/300, Loss: 0.04650476574897766\n",
      "Epoch 94/100, Batch 201/300, Loss: 0.033373285084962845\n",
      "Epoch 94/100, Train Loss: 0.03732157498598099, Test Loss: 0.16774077713489532\n",
      "Epoch 95/100, Batch 1/300, Loss: 0.0786706730723381\n",
      "Epoch 95/100, Batch 101/300, Loss: 0.028952879831194878\n",
      "Epoch 95/100, Batch 201/300, Loss: 0.014806577935814857\n",
      "Epoch 95/100, Train Loss: 0.03537175804376602, Test Loss: 0.16702719032764435\n",
      "Epoch 96/100, Batch 1/300, Loss: 0.053551286458969116\n",
      "Epoch 96/100, Batch 101/300, Loss: 0.024798430502414703\n",
      "Epoch 96/100, Batch 201/300, Loss: 0.04506375268101692\n",
      "Epoch 96/100, Train Loss: 0.0305445846170187, Test Loss: 0.1678311675786972\n",
      "Epoch 97/100, Batch 1/300, Loss: 0.018752049654722214\n",
      "Epoch 97/100, Batch 101/300, Loss: 0.025811292231082916\n",
      "Epoch 97/100, Batch 201/300, Loss: 0.02970290184020996\n",
      "Epoch 97/100, Train Loss: 0.03521890565752983, Test Loss: 0.17095956206321716\n",
      "Epoch 98/100, Batch 1/300, Loss: 0.029190776869654655\n",
      "Epoch 98/100, Batch 101/300, Loss: 0.018009621649980545\n",
      "Epoch 98/100, Batch 201/300, Loss: 0.0322626531124115\n",
      "Epoch 98/100, Train Loss: 0.03718843311071396, Test Loss: 0.17541545629501343\n",
      "Epoch 99/100, Batch 1/300, Loss: 0.05198141932487488\n",
      "Epoch 99/100, Batch 101/300, Loss: 0.034203965216875076\n",
      "Epoch 99/100, Batch 201/300, Loss: 0.02068151906132698\n",
      "Epoch 99/100, Train Loss: 0.030402159318327904, Test Loss: 0.16579043865203857\n",
      "Epoch 100/100, Batch 1/300, Loss: 0.05428623780608177\n",
      "Epoch 100/100, Batch 101/300, Loss: 0.031188152730464935\n",
      "Epoch 100/100, Batch 201/300, Loss: 0.04753708839416504\n",
      "Epoch 100/100, Train Loss: 0.03605102375149727, Test Loss: 0.17241701483726501\n"
     ]
    }
   ],
   "source": [
    "                \n",
    "# create a function to train the model\n",
    "def train_model(x_train, y_train, x_test, y_test, net, loss_fn, optimizer, n_epochs):\n",
    "    train_loss = []\n",
    "    test_loss = []\n",
    "    net.zero_grad()\n",
    "    for epoch in range(n_epochs):\n",
    "        for i, data in enumerate(train_data_loader):\n",
    "            X = data[0]\n",
    "            y = data[1]\n",
    "            y_hat = net(X)\n",
    "            loss = loss_fn(y_hat, y)\n",
    "            optimizer.zero_grad()\n",
    "            loss.backward()\n",
    "            optimizer.step()\n",
    "            if i % 100 == 0:\n",
    "                print(f'Epoch {epoch+1}/{n_epochs}, Batch {i+1}/{len(train_data_loader)}, Loss: {loss.item()}')\n",
    "        train_loss.append(loss_fn(net(torch.tensor(x_train, dtype=torch.float32)), torch.tensor(y_train, dtype=torch.long)).item())\n",
    "        test_loss.append(loss_fn(net(torch.tensor(x_test, dtype=torch.float32)), torch.tensor(y_test, dtype=torch.long)).item())\n",
    "        print(f'Epoch {epoch+1}/{n_epochs}, Train Loss: {train_loss[-1]}, Test Loss: {test_loss[-1]}')\n",
    "    return train_loss, test_loss\n",
    "\n",
    "\n",
    "# create a loss function and an optimizer\n",
    "optimizer = torch.optim.Adam(net.parameters(), lr=0.001)\n",
    "\n",
    "# train the model\n",
    "n_epochs = 100\n",
    "train_loss, test_loss = train_model(x_train, y_train, x_test, y_test, net, loss_fn, optimizer,  n_epochs=n_epochs)\n",
    "\n"
   ],
   "metadata": {
    "collapsed": false,
    "ExecuteTime": {
     "end_time": "2024-03-05T10:01:09.721690Z",
     "start_time": "2024-03-05T10:00:18.993009Z"
    }
   },
   "id": "d2e2064ec2624ab2",
   "execution_count": 275
  },
  {
   "cell_type": "code",
   "outputs": [
    {
     "data": {
      "text/plain": "<Figure size 640x480 with 1 Axes>",
      "image/png": "[encoded data removed]"
     },
     "metadata": {},
     "output_type": "display_data"
    }
   ],
   "source": [
    "# plot the train and test loss over the epochs\n",
    "plt.plot(train_loss, label='train loss')\n",
    "plt.plot(test_loss, label='test loss')\n",
    "plt.legend()\n",
    "plt.show()\n"
   ],
   "metadata": {
    "collapsed": false,
    "ExecuteTime": {
     "end_time": "2024-03-05T10:01:12.025960Z",
     "start_time": "2024-03-05T10:01:11.960304Z"
    }
   },
   "id": "f95d63998ffd819c",
   "execution_count": 276
  },
  {
   "cell_type": "code",
   "outputs": [
    {
     "data": {
      "text/plain": "<Figure size 640x480 with 1 Axes>",
      "image/png": "[encoded data removed]"
     },
     "metadata": {},
     "output_type": "display_data"
    }
   ],
   "source": [
    "test_index = 10\n",
    "single_x = x_test[test_index]\n",
    "single_y = y_test[test_index]\n",
    "single_y_hat = net(torch.tensor(single_x, dtype=torch.float32))\n",
    "# plot the single_x and the single_y_hat and the single_y\n",
    "plt.imshow(single_x[0], cmap='gray')\n",
    "plt.title(f'Prediction: {single_y_hat.argmax().item()}, True: {single_y}')\n",
    "plt.show()\n"
   ],
   "metadata": {
    "collapsed": false,
    "ExecuteTime": {
     "end_time": "2024-03-05T09:59:57.568827Z",
     "start_time": "2024-03-05T09:59:57.505114Z"
    }
   },
   "id": "3d4fe5f9d67a8932",
   "execution_count": 274
  },
  {
   "cell_type": "code",
   "outputs": [],
   "source": [],
   "metadata": {
    "collapsed": false,
    "ExecuteTime": {
     "end_time": "2024-03-05T10:56:57.134083Z",
     "start_time": "2024-03-05T10:56:57.115500Z"
    }
   },
   "id": "bbc5b86d7d07d82a",
   "execution_count": 278
  },
  {
   "cell_type": "code",
   "outputs": [],
   "source": [],
   "metadata": {
    "collapsed": false,
    "ExecuteTime": {
     "end_time": "2024-03-06T06:13:21.383333Z",
     "start_time": "2024-03-06T06:13:21.368766Z"
    }
   },
   "id": "b086d66d0fa18c1a",
   "execution_count": 280
  },
  {
   "cell_type": "code",
   "outputs": [],
   "source": [],
   "metadata": {
    "collapsed": false,
    "ExecuteTime": {
     "end_time": "2024-03-05T11:00:38.544914Z",
     "start_time": "2024-03-05T11:00:38.526503Z"
    }
   },
   "id": "b76ed6c9ab6245ef",
   "execution_count": 280
  },
  {
   "cell_type": "code",
   "outputs": [],
   "source": [],
   "metadata": {
    "collapsed": false
   },
   "id": "60d4ffc341ca093e"
  }
 ],
 "metadata": {
  "kernelspec": {
   "display_name": "Python 3",
   "language": "python",
   "name": "python3"
  },
  "language_info": {
   "codemirror_mode": {
    "name": "ipython",
    "version": 2
   },
   "file_extension": ".py",
   "mimetype": "text/x-python",
   "name": "python",
   "nbconvert_exporter": "python",
   "pygments_lexer": "ipython2",
   "version": "2.7.6"
  }
 },
 "nbformat": 4,
 "nbformat_minor": 5
}
