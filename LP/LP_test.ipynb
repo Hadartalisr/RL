{
 "cells": [
  {
   "cell_type": "code",
   "execution_count": 54,
   "id": "initial_id",
   "metadata": {
    "collapsed": true,
    "ExecuteTime": {
     "end_time": "2024-04-07T14:10:09.809474Z",
     "start_time": "2024-04-07T14:10:09.794965Z"
    }
   },
   "outputs": [],
   "source": [
    "from pulp import LpMaximize, LpMinimize, LpProblem, LpStatus, lpSum, LpVariable, LpAffineExpression\n"
   ]
  },
  {
   "cell_type": "code",
   "outputs": [],
   "source": [
    "# Create the model\n",
    "model = LpProblem(name=\"small-problem\", sense=LpMinimize)"
   ],
   "metadata": {
    "collapsed": false,
    "ExecuteTime": {
     "end_time": "2024-04-07T13:18:04.714186Z",
     "start_time": "2024-04-07T13:18:04.697996Z"
    }
   },
   "id": "7b0338256490e44b",
   "execution_count": 14
  },
  {
   "cell_type": "code",
   "outputs": [],
   "source": [
    "p1 = LpVariable(name=\"p1\", lowBound=0, upBound=1)\n",
    "p21 = LpVariable(name=\"p21\", lowBound=0, upBound=1)\n",
    "p22 = LpVariable(name=\"p22\", lowBound=0, upBound=1)\n",
    "p31 = LpVariable(name=\"p31\", lowBound=0, upBound=1)\n",
    "p32 = LpVariable(name=\"p32\", lowBound=0, upBound=1)\n",
    "p33 = LpVariable(name=\"p33\", lowBound=0, upBound=1)\n",
    "p34 = LpVariable(name=\"p34\", lowBound=0, upBound=1)\n",
    "c = LpVariable(name=\"c\")"
   ],
   "metadata": {
    "collapsed": false,
    "ExecuteTime": {
     "end_time": "2024-04-07T13:18:04.714467Z",
     "start_time": "2024-04-07T13:18:04.702976Z"
    }
   },
   "id": "fff313f35b44f9ed",
   "execution_count": 15
  },
  {
   "cell_type": "code",
   "outputs": [],
   "source": [
    "con1 = (1-p1)+(1-p21)+(1-p31) <= c\n",
    "con2 = (1-p1)+(1-p21)+(p31-1) <= c\n",
    "con3 = (1-p1)+(p21-1)+(1-p32) <= c\n",
    "con4 = (-p1)+(p21)+(p32) <= c\n",
    "con5 = (p1-1)+(1-p22)+(1-p33) <= c\n",
    "con6 = (p1)+(-p22)+(p33) <= c\n",
    "con7 = (p1)+(p22)+(p34) <= c\n",
    "con8 = (p1)+(p22)+(-p34) <= c\n"
   ],
   "metadata": {
    "collapsed": false,
    "ExecuteTime": {
     "end_time": "2024-04-07T13:18:04.714647Z",
     "start_time": "2024-04-07T13:18:04.707465Z"
    }
   },
   "id": "f717fd0ec22524db",
   "execution_count": 16
  },
  {
   "cell_type": "code",
   "outputs": [],
   "source": [
    "model += con1 \n",
    "model += con2\n",
    "model += con3  \n",
    "model += con4\n",
    "model += con5\n",
    "model += con6\n",
    "model += con7\n",
    "model += con8\n"
   ],
   "metadata": {
    "collapsed": false,
    "ExecuteTime": {
     "end_time": "2024-04-07T13:18:04.715200Z",
     "start_time": "2024-04-07T13:18:04.711059Z"
    }
   },
   "id": "6cd50e083bf8d49d",
   "execution_count": 17
  },
  {
   "cell_type": "code",
   "outputs": [],
   "source": [
    "model += c"
   ],
   "metadata": {
    "collapsed": false,
    "ExecuteTime": {
     "end_time": "2024-04-07T13:18:04.724672Z",
     "start_time": "2024-04-07T13:18:04.717235Z"
    }
   },
   "id": "4125a6a385942ad",
   "execution_count": 18
  },
  {
   "cell_type": "code",
   "outputs": [
    {
     "data": {
      "text/plain": "small-problem:\nMINIMIZE\n1*c + 0\nSUBJECT TO\n_C1: - c - p1 - p21 - p31 <= -3\n\n_C2: - c - p1 - p21 + p31 <= -1\n\n_C3: - c - p1 + p21 - p32 <= -1\n\n_C4: - c - p1 + p21 + p32 <= 0\n\n_C5: - c + p1 - p22 - p33 <= -1\n\n_C6: - c + p1 - p22 + p33 <= 0\n\n_C7: - c + p1 + p22 + p34 <= 0\n\n_C8: - c + p1 + p22 - p34 <= 0\n\nVARIABLES\nc free Continuous\np1 <= 1 Continuous\np21 <= 1 Continuous\np22 <= 1 Continuous\np31 <= 1 Continuous\np32 <= 1 Continuous\np33 <= 1 Continuous\np34 <= 1 Continuous"
     },
     "execution_count": 19,
     "metadata": {},
     "output_type": "execute_result"
    }
   ],
   "source": [
    "model"
   ],
   "metadata": {
    "collapsed": false,
    "ExecuteTime": {
     "end_time": "2024-04-07T13:18:06.840057Z",
     "start_time": "2024-04-07T13:18:06.816783Z"
    }
   },
   "id": "71d776eb238f78d0",
   "execution_count": 19
  },
  {
   "cell_type": "code",
   "outputs": [
    {
     "name": "stdout",
     "output_type": "stream",
     "text": [
      "Welcome to the CBC MILP Solver \n",
      "Version: 2.10.3 \n",
      "Build Date: Dec 15 2019 \n",
      "\n",
      "command line - /Users/hadar/Dev/RL/.venv/lib/python3.10/site-packages/pulp/solverdir/cbc/osx/64/cbc /var/folders/_7/xf1wjsfx5bs9p2klwbsmtf640000gq/T/a827583d0c22419dbe020345ff55af31-pulp.mps -timeMode elapsed -branch -printingOptions all -solution /var/folders/_7/xf1wjsfx5bs9p2klwbsmtf640000gq/T/a827583d0c22419dbe020345ff55af31-pulp.sol (default strategy 1)\n",
      "At line 2 NAME          MODEL\n",
      "At line 3 ROWS\n",
      "At line 13 COLUMNS\n",
      "At line 47 RHS\n",
      "At line 56 BOUNDS\n",
      "At line 65 ENDATA\n",
      "Problem MODEL has 8 rows, 8 columns and 32 elements\n",
      "Coin0008I MODEL read with 0 errors\n",
      "Option for timeMode changed from cpu to elapsed\n",
      "Presolve 8 (0) rows, 8 (0) columns and 32 (0) elements\n",
      "Perturbing problem by 0.001% of 1 - largest nonzero change 0 ( 0%) - largest zero change 5.8145531e-05\n",
      "0  Obj 0 Primal inf 5.9999996 (4) Dual inf 0.0099999 (1) w.o. free dual inf (0)\n",
      "7  Obj 0.75004551\n",
      "Optimal - objective value 0.75\n",
      "Optimal objective 0.75 - 7 iterations time 0.002\n",
      "Option for printingOptions changed from normal to all\n",
      "Total time (CPU seconds):       0.00   (Wallclock seconds):       0.00\n"
     ]
    }
   ],
   "source": [
    "status = model.solve()"
   ],
   "metadata": {
    "collapsed": false,
    "ExecuteTime": {
     "end_time": "2024-04-07T13:18:31.677909Z",
     "start_time": "2024-04-07T13:18:30.829630Z"
    }
   },
   "id": "c04fd24d888bf046",
   "execution_count": 20
  },
  {
   "cell_type": "code",
   "outputs": [
    {
     "name": "stdout",
     "output_type": "stream",
     "text": [
      "c: 0.75\n",
      "p1: 0.5\n",
      "p21: 0.75\n",
      "p22: 0.25\n",
      "p31: 1.0\n",
      "p32: 0.5\n",
      "p33: 0.5\n",
      "p34: 0.0\n"
     ]
    }
   ],
   "source": [
    "for var in model.variables():\n",
    "    print(f\"{var.name}: {var.value()}\")"
   ],
   "metadata": {
    "collapsed": false,
    "ExecuteTime": {
     "end_time": "2024-04-07T13:19:13.474435Z",
     "start_time": "2024-04-07T13:19:13.466394Z"
    }
   },
   "id": "70a83fc704b5bfd6",
   "execution_count": 21
  },
  {
   "cell_type": "code",
   "outputs": [
    {
     "name": "stdout",
     "output_type": "stream",
     "text": [
      "-c - p1 - p2 - p4 <= -3\n",
      "-c - p1 - p2 + p4 <= -1\n",
      "-c - p1 + p2 - p5 <= -1\n",
      "-c - p1 + p2 + p5 <= 0\n",
      "-c + p1 - p3 - p6 <= -1\n",
      "-c + p1 - p3 + p6 <= 0\n",
      "-c + p1 + p3 - p7 <= 0\n",
      "-c + p1 + p3 + p7 <= 0\n"
     ]
    }
   ],
   "source": [
    "class Node:\n",
    "    def __init__(self, value, parent=None):\n",
    "        self.value = value\n",
    "        self.lp_variable = LpVariable(name=f\"p{value}\", lowBound=0, upBound=1)\n",
    "        self.left = None\n",
    "        self.right = None\n",
    "        self.parent = parent\n",
    "    \n",
    "    def get_left_child(self):\n",
    "        return self.left\n",
    "    \n",
    "    def get_right_child(self):\n",
    "        return self.right\n",
    "    \n",
    "    def get_parent(self):\n",
    "        return self.parent\n",
    "    \n",
    "    def print_tree(self, level=0):\n",
    "        \"\"\"Recursively prints the tree structure.\"\"\"\n",
    "        print(' ' * 4 * level + f'- {self.value}')\n",
    "        if self.left:\n",
    "            self.left.print_tree(level + 1)\n",
    "        if self.right:\n",
    "            self.right.print_tree(level + 1)\n",
    "            \n",
    "\n",
    "def generate_full_binary_tree(depth, current_depth=0, parent=None, value=1):\n",
    "    \"\"\"Recursively generates a full binary tree to the specified depth.\"\"\"\n",
    "    if depth < 0 or current_depth > depth:\n",
    "        return None\n",
    "    \n",
    "    # Create the current node\n",
    "    node = Node(value, parent)\n",
    "    \n",
    "    # If not at the desired depth, create left and right children\n",
    "    if current_depth < depth:\n",
    "        node.left = generate_full_binary_tree(depth, current_depth + 1, node, value*2)\n",
    "        node.right = generate_full_binary_tree(depth, current_depth + 1, node, value*2 + 1)\n",
    "    \n",
    "    return node\n",
    "\n",
    "\n",
    "def get_lp_expressions(node, expression_0=None, expression_1=None):\n",
    "    if not node.left and not node.right: # Leaf node\n",
    "        return [expression_0, expression_1]\n",
    "    \n",
    "    expression_left_0 = expression_0 + (1 - node.lp_variable)\n",
    "    expression_left_1 = expression_1 + (-node.lp_variable)\n",
    "    expressions_left = get_lp_expressions(node.left, expression_left_0, expression_left_1)\n",
    "    \n",
    "    expression_right_0 = expression_0 + (node.lp_variable - 1)\n",
    "    expression_right_1 = expression_1 + (node.lp_variable)\n",
    "    expressions_right = get_lp_expressions(node.right, expression_right_0, expression_right_1)\n",
    "    \n",
    "    #return all the results as array with 1 dimension\n",
    "    return expressions_left + expressions_right\n",
    "    \n",
    "    \n",
    "\n",
    "def get_lp_constraints(node):\n",
    "    c = LpVariable(name=\"c\")\n",
    "    constraints_dict = {}\n",
    "    \n",
    "    expressions = get_lp_expressions(node, LpAffineExpression(), LpAffineExpression())\n",
    "    \n",
    "    for expression in expressions:\n",
    "        # Separate the LHS and RHS of the expression\n",
    "        lhs_expression = expression - expression.constant\n",
    "        rhs_value = -expression.constant  # Assuming expression is <= 0\n",
    "        \n",
    "        lhs_str = str(lhs_expression)  # Use LHS for comparison\n",
    "        \n",
    "        # Check if this LHS is already in the dictionary\n",
    "        if lhs_str in constraints_dict:\n",
    "            # Keep the most restrictive constraint (smaller RHS value)\n",
    "            existing_rhs_value = -constraints_dict[lhs_str].constant\n",
    "            if rhs_value < existing_rhs_value:\n",
    "                constraints_dict[lhs_str] = lhs_expression - c <= rhs_value\n",
    "        else:\n",
    "            constraints_dict[lhs_str] = lhs_expression - c <= rhs_value\n",
    "    \n",
    "    # Return the list of unique, most restrictive constraints\n",
    "    return list(constraints_dict.values())\n",
    "\n",
    "    \n",
    "# Example usage:|\n",
    "T = 3 # Depth of the tree\n",
    "root = generate_full_binary_tree(T)\n",
    "    \n",
    "constraints = get_lp_constraints(root) \n",
    "for constrains in constraints:\n",
    "    print(constrains)\n",
    "\n"
   ],
   "metadata": {
    "collapsed": false,
    "ExecuteTime": {
     "end_time": "2024-04-07T14:13:30.500547Z",
     "start_time": "2024-04-07T14:13:30.486980Z"
    }
   },
   "id": "e7d75997b2f836f0",
   "execution_count": 60
  },
  {
   "cell_type": "code",
   "outputs": [],
   "source": [
    "\n",
    "model2 = LpProblem(name=\"experts-problem-1\", sense=LpMinimize)\n",
    "model2 += c\n",
    "for constraint in constraints:\n",
    "    model2 += constraint"
   ],
   "metadata": {
    "collapsed": false
   },
   "id": "b4b2400b451d31fb",
   "execution_count": null
  },
  {
   "cell_type": "code",
   "outputs": [
    {
     "data": {
      "text/plain": "experts-problem-1:\nMINIMIZE\n1*c + 0\nSUBJECT TO\n_C1: - c - p1 - p2 - p4 <= -3\n\n_C2: - c - p1 - p2 + p4 <= -1\n\n_C3: - c - p1 + p2 - p5 <= -1\n\n_C4: - c - p1 + p2 + p5 <= 0\n\n_C5: - c + p1 - p3 - p6 <= -1\n\n_C6: - c + p1 - p3 + p6 <= 0\n\n_C7: - c + p1 + p3 - p7 <= 0\n\n_C8: - c + p1 + p3 + p7 <= 0\n\nVARIABLES\nc free Continuous\nc free Continuous\np1 <= 1 Continuous\np2 <= 1 Continuous\np3 <= 1 Continuous\np4 <= 1 Continuous\np5 <= 1 Continuous\np6 <= 1 Continuous\np7 <= 1 Continuous"
     },
     "execution_count": 62,
     "metadata": {},
     "output_type": "execute_result"
    }
   ],
   "source": [
    "model2"
   ],
   "metadata": {
    "collapsed": false,
    "ExecuteTime": {
     "end_time": "2024-04-07T14:13:53.400664Z",
     "start_time": "2024-04-07T14:13:53.387427Z"
    }
   },
   "id": "4727b5cd0275a330",
   "execution_count": 62
  },
  {
   "cell_type": "code",
   "outputs": [
    {
     "name": "stdout",
     "output_type": "stream",
     "text": [
      "Welcome to the CBC MILP Solver \n",
      "Version: 2.10.3 \n",
      "Build Date: Dec 15 2019 \n",
      "\n",
      "command line - /Users/hadar/Dev/RL/.venv/lib/python3.10/site-packages/pulp/solverdir/cbc/osx/64/cbc /var/folders/_7/xf1wjsfx5bs9p2klwbsmtf640000gq/T/0298bd514b6d451f9225b65071810649-pulp.mps -timeMode elapsed -branch -printingOptions all -solution /var/folders/_7/xf1wjsfx5bs9p2klwbsmtf640000gq/T/0298bd514b6d451f9225b65071810649-pulp.sol (default strategy 1)\n",
      "At line 2 NAME          MODEL\n",
      "At line 3 ROWS\n",
      "At line 13 COLUMNS\n",
      "Duplicate row C0000000 at line 22 <     X0000001  C0000000  -1.000000000000e+00 >\n",
      "Duplicate row C0000001 at line 23 <     X0000001  C0000001  -1.000000000000e+00 >\n",
      "Duplicate row C0000002 at line 24 <     X0000001  C0000002  -1.000000000000e+00 >\n",
      "Duplicate row C0000003 at line 25 <     X0000001  C0000003  -1.000000000000e+00 >\n",
      "Duplicate row C0000004 at line 26 <     X0000001  C0000004  -1.000000000000e+00 >\n",
      "Duplicate row C0000005 at line 27 <     X0000001  C0000005  -1.000000000000e+00 >\n",
      "Duplicate row C0000006 at line 28 <     X0000001  C0000006  -1.000000000000e+00 >\n",
      "Duplicate row C0000007 at line 29 <     X0000001  C0000007  -1.000000000000e+00 >\n",
      "At line 55 RHS\n",
      "At line 64 BOUNDS\n",
      "Bad image at line 66 <  FR BND       X0000001 >\n",
      "At line 74 ENDATA\n",
      "Problem MODEL has 8 rows, 8 columns and 32 elements\n",
      "Coin0008I MODEL read with 9 errors\n",
      "There were 9 errors on input\n",
      "Option for timeMode changed from cpu to elapsed\n",
      "** Current model not valid\n",
      "Option for printingOptions changed from normal to all\n",
      "** Current model not valid\n",
      "No match for /var/folders/_7/xf1wjsfx5bs9p2klwbsmtf640000gq/T/0298bd514b6d451f9225b65071810649-pulp.sol - ? for list of commands\n",
      "Total time (CPU seconds):       0.00   (Wallclock seconds):       0.00\n"
     ]
    },
    {
     "ename": "PulpSolverError",
     "evalue": "Pulp: Error while executing /Users/hadar/Dev/RL/.venv/lib/python3.10/site-packages/pulp/solverdir/cbc/osx/64/cbc",
     "output_type": "error",
     "traceback": [
      "\u001B[0;31m---------------------------------------------------------------------------\u001B[0m",
      "\u001B[0;31mPulpSolverError\u001B[0m                           Traceback (most recent call last)",
      "Cell \u001B[0;32mIn[61], line 5\u001B[0m\n\u001B[1;32m      3\u001B[0m \u001B[38;5;28;01mfor\u001B[39;00m constraint \u001B[38;5;129;01min\u001B[39;00m constraints:\n\u001B[1;32m      4\u001B[0m     model2 \u001B[38;5;241m+\u001B[39m\u001B[38;5;241m=\u001B[39m constraint\n\u001B[0;32m----> 5\u001B[0m \u001B[43mmodel2\u001B[49m\u001B[38;5;241;43m.\u001B[39;49m\u001B[43msolve\u001B[49m\u001B[43m(\u001B[49m\u001B[43m)\u001B[49m\n\u001B[1;32m      6\u001B[0m \u001B[38;5;28;01mfor\u001B[39;00m var \u001B[38;5;129;01min\u001B[39;00m model2\u001B[38;5;241m.\u001B[39mvariables():\n\u001B[1;32m      7\u001B[0m     \u001B[38;5;28mprint\u001B[39m(\u001B[38;5;124mf\u001B[39m\u001B[38;5;124m\"\u001B[39m\u001B[38;5;132;01m{\u001B[39;00mvar\u001B[38;5;241m.\u001B[39mname\u001B[38;5;132;01m}\u001B[39;00m\u001B[38;5;124m: \u001B[39m\u001B[38;5;132;01m{\u001B[39;00mvar\u001B[38;5;241m.\u001B[39mvalue()\u001B[38;5;132;01m}\u001B[39;00m\u001B[38;5;124m\"\u001B[39m)\n",
      "File \u001B[0;32m~/Dev/RL/.venv/lib/python3.10/site-packages/pulp/pulp.py:1883\u001B[0m, in \u001B[0;36mLpProblem.solve\u001B[0;34m(self, solver, **kwargs)\u001B[0m\n\u001B[1;32m   1881\u001B[0m \u001B[38;5;66;03m# time it\u001B[39;00m\n\u001B[1;32m   1882\u001B[0m \u001B[38;5;28mself\u001B[39m\u001B[38;5;241m.\u001B[39mstartClock()\n\u001B[0;32m-> 1883\u001B[0m status \u001B[38;5;241m=\u001B[39m \u001B[43msolver\u001B[49m\u001B[38;5;241;43m.\u001B[39;49m\u001B[43mactualSolve\u001B[49m\u001B[43m(\u001B[49m\u001B[38;5;28;43mself\u001B[39;49m\u001B[43m,\u001B[49m\u001B[43m \u001B[49m\u001B[38;5;241;43m*\u001B[39;49m\u001B[38;5;241;43m*\u001B[39;49m\u001B[43mkwargs\u001B[49m\u001B[43m)\u001B[49m\n\u001B[1;32m   1884\u001B[0m \u001B[38;5;28mself\u001B[39m\u001B[38;5;241m.\u001B[39mstopClock()\n\u001B[1;32m   1885\u001B[0m \u001B[38;5;28mself\u001B[39m\u001B[38;5;241m.\u001B[39mrestoreObjective(wasNone, dummyVar)\n",
      "File \u001B[0;32m~/Dev/RL/.venv/lib/python3.10/site-packages/pulp/apis/coin_api.py:112\u001B[0m, in \u001B[0;36mCOIN_CMD.actualSolve\u001B[0;34m(self, lp, **kwargs)\u001B[0m\n\u001B[1;32m    110\u001B[0m \u001B[38;5;28;01mdef\u001B[39;00m \u001B[38;5;21mactualSolve\u001B[39m(\u001B[38;5;28mself\u001B[39m, lp, \u001B[38;5;241m*\u001B[39m\u001B[38;5;241m*\u001B[39mkwargs):\n\u001B[1;32m    111\u001B[0m \u001B[38;5;250m    \u001B[39m\u001B[38;5;124;03m\"\"\"Solve a well formulated lp problem\"\"\"\u001B[39;00m\n\u001B[0;32m--> 112\u001B[0m     \u001B[38;5;28;01mreturn\u001B[39;00m \u001B[38;5;28;43mself\u001B[39;49m\u001B[38;5;241;43m.\u001B[39;49m\u001B[43msolve_CBC\u001B[49m\u001B[43m(\u001B[49m\u001B[43mlp\u001B[49m\u001B[43m,\u001B[49m\u001B[43m \u001B[49m\u001B[38;5;241;43m*\u001B[39;49m\u001B[38;5;241;43m*\u001B[39;49m\u001B[43mkwargs\u001B[49m\u001B[43m)\u001B[49m\n",
      "File \u001B[0;32m~/Dev/RL/.venv/lib/python3.10/site-packages/pulp/apis/coin_api.py:188\u001B[0m, in \u001B[0;36mCOIN_CMD.solve_CBC\u001B[0;34m(self, lp, use_mps)\u001B[0m\n\u001B[1;32m    186\u001B[0m     pipe\u001B[38;5;241m.\u001B[39mclose()\n\u001B[1;32m    187\u001B[0m \u001B[38;5;28;01mif\u001B[39;00m \u001B[38;5;129;01mnot\u001B[39;00m os\u001B[38;5;241m.\u001B[39mpath\u001B[38;5;241m.\u001B[39mexists(tmpSol):\n\u001B[0;32m--> 188\u001B[0m     \u001B[38;5;28;01mraise\u001B[39;00m PulpSolverError(\u001B[38;5;124m\"\u001B[39m\u001B[38;5;124mPulp: Error while executing \u001B[39m\u001B[38;5;124m\"\u001B[39m \u001B[38;5;241m+\u001B[39m \u001B[38;5;28mself\u001B[39m\u001B[38;5;241m.\u001B[39mpath)\n\u001B[1;32m    189\u001B[0m (\n\u001B[1;32m    190\u001B[0m     status,\n\u001B[1;32m    191\u001B[0m     values,\n\u001B[0;32m   (...)\u001B[0m\n\u001B[1;32m    195\u001B[0m     sol_status,\n\u001B[1;32m    196\u001B[0m ) \u001B[38;5;241m=\u001B[39m \u001B[38;5;28mself\u001B[39m\u001B[38;5;241m.\u001B[39mreadsol_MPS(tmpSol, lp, vs, variablesNames, constraintsNames)\n\u001B[1;32m    197\u001B[0m lp\u001B[38;5;241m.\u001B[39massignVarsVals(values)\n",
      "\u001B[0;31mPulpSolverError\u001B[0m: Pulp: Error while executing /Users/hadar/Dev/RL/.venv/lib/python3.10/site-packages/pulp/solverdir/cbc/osx/64/cbc"
     ]
    }
   ],
   "source": [
    "model2.solve()\n",
    "for var in model2.variables():\n",
    "    print(f\"{var.name}: {var.value()}\")"
   ],
   "metadata": {
    "collapsed": false,
    "ExecuteTime": {
     "end_time": "2024-04-07T14:13:36.445327Z",
     "start_time": "2024-04-07T14:13:36.404635Z"
    }
   },
   "id": "cce1cf75168b0aab",
   "execution_count": 61
  },
  {
   "cell_type": "code",
   "outputs": [
    {
     "name": "stdout",
     "output_type": "stream",
     "text": [
      "Left child of root: 2\n",
      "Right child of left child: 5\n",
      "Parent of the right child of left child: 2\n"
     ]
    }
   ],
   "source": [
    "\n",
    "\n",
    "\n",
    "# These are just to show how to use the get_left_child, get_right_child, and get_parent methods.\n",
    "# For a tree with depth T=2, let's access the left child of the root and its right child\n",
    "left_child = root.get_left_child()\n",
    "right_child_of_left_child = left_child.get_right_child()\n",
    "parent_of_right_child_of_left_child = right_child_of_left_child.get_parent()\n",
    "\n",
    "print(f\"Left child of root: {left_child.value}\")\n",
    "print(f\"Right child of left child: {right_child_of_left_child.value}\")\n",
    "print(f\"Parent of the right child of left child: {parent_of_right_child_of_left_child.value}\")\n",
    "\n"
   ],
   "metadata": {
    "collapsed": false,
    "ExecuteTime": {
     "end_time": "2024-04-07T13:37:58.723515Z",
     "start_time": "2024-04-07T13:37:58.711051Z"
    }
   },
   "id": "c1569dcbcb4a54fc",
   "execution_count": 30
  },
  {
   "cell_type": "code",
   "outputs": [
    {
     "name": "stdout",
     "output_type": "stream",
     "text": [
      "- 1\n",
      "    - 2\n",
      "        - 4\n",
      "            - 8\n",
      "            - 9\n",
      "        - 5\n",
      "            - 10\n",
      "            - 11\n",
      "    - 3\n",
      "        - 6\n",
      "            - 12\n",
      "            - 13\n",
      "        - 7\n",
      "            - 14\n",
      "            - 15\n"
     ]
    }
   ],
   "source": [
    "root.print_tree()"
   ],
   "metadata": {
    "collapsed": false,
    "ExecuteTime": {
     "end_time": "2024-04-07T13:37:59.663441Z",
     "start_time": "2024-04-07T13:37:59.657874Z"
    }
   },
   "id": "62f191d31e80749b",
   "execution_count": 31
  },
  {
   "cell_type": "code",
   "outputs": [],
   "source": [],
   "metadata": {
    "collapsed": false
   },
   "id": "562e40c4a826d431"
  }
 ],
 "metadata": {
  "kernelspec": {
   "display_name": "Python 3",
   "language": "python",
   "name": "python3"
  },
  "language_info": {
   "codemirror_mode": {
    "name": "ipython",
    "version": 2
   },
   "file_extension": ".py",
   "mimetype": "text/x-python",
   "name": "python",
   "nbconvert_exporter": "python",
   "pygments_lexer": "ipython2",
   "version": "2.7.6"
  }
 },
 "nbformat": 4,
 "nbformat_minor": 5
}
