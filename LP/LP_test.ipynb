{
 "cells": [
  {
   "cell_type": "code",
   "id": "initial_id",
   "metadata": {
    "collapsed": true,
    "ExecuteTime": {
     "end_time": "2024-05-21T12:39:29.216150Z",
     "start_time": "2024-05-21T12:39:29.213667Z"
    }
   },
   "source": [
    "from pulp import *\n",
    "from fractions import Fraction\n",
    "import matplotlib.pyplot as plt\n",
    "import numpy as np\n",
    "import math\n",
    "from scipy.stats import binom\n",
    "from scipy.special import comb"
   ],
   "outputs": [],
   "execution_count": 96
  },
  {
   "cell_type": "code",
   "source": [
    "class Node:\n",
    "    def __init__(self, value, depth, parent=None):\n",
    "        self.value = value\n",
    "        self.depth = depth\n",
    "        self.lp_variable = LpVariable(name=f\"p{depth}_{value}\", lowBound=0, upBound=1)\n",
    "        self.left = None\n",
    "        self.right = None\n",
    "        self.parent = parent\n",
    "    \n",
    "    def get_left_child(self):\n",
    "        return self.left\n",
    "    \n",
    "    def get_right_child(self):\n",
    "        return self.right\n",
    "    \n",
    "    def get_parent(self):\n",
    "        return self.parent\n",
    "    \n",
    "            \n",
    "    def print_tree(self, prefix=\"\", is_left=True, fraction=True):\n",
    "        if self.right is not None:\n",
    "            new_prefix = prefix + (\"│           \" if is_left else \"            \")\n",
    "            self.right.print_tree(new_prefix, False, fraction)\n",
    "        value_to_print = \"\" \n",
    "        if self.lp_variable.value() is not None:\n",
    "            if fraction:\n",
    "                value_to_print = f'({ Fraction(self.lp_variable.value())})'\n",
    "            else:\n",
    "                value_to_print = f'({ (self.lp_variable.value())})'\n",
    "        print(prefix + (\"└───────────── \" if is_left else \"┌───────────── \") + f'- {self.depth}_{self.value}' + value_to_print)\n",
    "        if self.left is not None:\n",
    "            new_prefix = prefix + (\"            \" if is_left else \"│           \")\n",
    "            self.left.print_tree(new_prefix, True, fraction)\n",
    "        \n",
    "            \n",
    "\n",
    "def generate_full_binary_tree(depth, current_depth=0, parent=None, value=1):\n",
    "    \"\"\"Recursively generates a full binary tree to the specified depth.\"\"\"\n",
    "    if depth < 0 or current_depth > depth:\n",
    "        return None\n",
    "    \n",
    "    # Create the current node\n",
    "    node = Node(value, current_depth, parent)\n",
    "    \n",
    "    # If not at the desired depth, create left and right children\n",
    "    if current_depth < depth:\n",
    "        node.left = generate_full_binary_tree(depth, current_depth + 1, node, value*2)\n",
    "        node.right = generate_full_binary_tree(depth, current_depth + 1, node, value*2 + 1)\n",
    "    \n",
    "    return node\n",
    "\n",
    "\n",
    "def get_lp_expressions(node, correct_left_r, correct_right_r, expression_0=None, expression_1=None):\n",
    "    if not node.left and not node.right: # Leaf node\n",
    "        return [expression_0, expression_1]\n",
    "    \n",
    "    expression_left_0 = expression_0 + correct_left_r * (1 - node.lp_variable)\n",
    "    expression_left_1 = expression_1 + correct_left_r * (-node.lp_variable)\n",
    "    expressions_left = get_lp_expressions(node.left, correct_left_r, correct_right_r, expression_left_0, expression_left_1)\n",
    "    \n",
    "    expression_right_0 = expression_0 + correct_right_r * (node.lp_variable - 1)\n",
    "    expression_right_1 = expression_1 + correct_right_r * (node.lp_variable)\n",
    "    expressions_right = get_lp_expressions(node.right, correct_left_r, correct_right_r, expression_right_0, expression_right_1)\n",
    "    \n",
    "    #return all the results as array with 1 dimension\n",
    "    return expressions_left + expressions_right\n",
    "    \n",
    "    \n",
    "\n",
    "def get_lp_constraints(expressions, c):\n",
    "    constraints_dict = {}\n",
    "        \n",
    "    for expression in expressions:\n",
    "        # Separate the LHS and RHS of the expression\n",
    "        lhs_expression = expression - expression.constant\n",
    "        rhs_value = -expression.constant  # Assuming expression is <= 0\n",
    "        \n",
    "        lhs_str = str(lhs_expression)  # Use LHS for comparison\n",
    "        \n",
    "        # Check if this LHS is already in the dictionary\n",
    "        if lhs_str in constraints_dict:\n",
    "            # Keep the most restrictive constraint (smaller RHS value)\n",
    "            existing_rhs_value = -constraints_dict[lhs_str].constant\n",
    "            if rhs_value < existing_rhs_value:\n",
    "                constraints_dict[lhs_str] = lhs_expression - c <= rhs_value\n",
    "        else:\n",
    "            constraints_dict[lhs_str] = lhs_expression - c <= rhs_value\n",
    "    \n",
    "    # Return the list of unique, most restrictive constraints\n",
    "    return list(constraints_dict.values())\n",
    "    \n",
    "    \n",
    "T = 4 # Depth of the tree\n",
    "root = generate_full_binary_tree(T)\n",
    "c = LpVariable(name=\"c\")\n",
    "model2 = LpProblem(name=\"experts-problem-1\", sense=LpMinimize)\n",
    "expressions = get_lp_expressions(root, correct_left_r=1, correct_right_r=1,  expression_0=LpAffineExpression(), expression_1=LpAffineExpression())\n",
    "constraints = get_lp_constraints(expressions, c) \n",
    "model2 += c\n",
    "for constraint in constraints:\n",
    "    model2 += constraint\n",
    "model2.solve()\n"
   ],
   "metadata": {
    "collapsed": false,
    "ExecuteTime": {
     "end_time": "2024-05-21T12:39:29.308380Z",
     "start_time": "2024-05-21T12:39:29.261546Z"
    }
   },
   "id": "e7d75997b2f836f0",
   "outputs": [
    {
     "name": "stdout",
     "output_type": "stream",
     "text": [
      "Welcome to the CBC MILP Solver \n",
      "Version: 2.10.3 \n",
      "Build Date: Dec 15 2019 \n",
      "\n",
      "command line - /Library/Frameworks/Python.framework/Versions/3.12/lib/python3.12/site-packages/pulp/solverdir/cbc/osx/64/cbc /var/folders/35/zvccpxvn29dbm9yh57_px53m0000gp/T/9b6d82adc5b4468997c51da8d384c892-pulp.mps -timeMode elapsed -branch -printingOptions all -solution /var/folders/35/zvccpxvn29dbm9yh57_px53m0000gp/T/9b6d82adc5b4468997c51da8d384c892-pulp.sol (default strategy 1)\n",
      "At line 2 NAME          MODEL\n",
      "At line 3 ROWS\n",
      "At line 21 COLUMNS\n",
      "At line 103 RHS\n",
      "At line 120 BOUNDS\n",
      "At line 137 ENDATA\n",
      "Problem MODEL has 16 rows, 16 columns and 80 elements\n",
      "Coin0008I MODEL read with 0 errors\n",
      "Option for timeMode changed from cpu to elapsed\n",
      "Presolve 16 (0) rows, 16 (0) columns and 80 (0) elements\n",
      "Perturbing problem by 0.001% of 1 - largest nonzero change 0 ( 0%) - largest zero change 8.9789202e-05\n",
      "0  Obj 0 Primal inf 12 (5) Dual inf 0.0099999 (1) w.o. free dual inf (0)\n",
      "8  Obj 0.75014924\n",
      "Optimal - objective value 0.75\n",
      "Optimal objective 0.75 - 8 iterations time 0.002\n",
      "Option for printingOptions changed from normal to all\n",
      "Total time (CPU seconds):       0.00   (Wallclock seconds):       0.01\n",
      "\n"
     ]
    },
    {
     "data": {
      "text/plain": [
       "1"
      ]
     },
     "execution_count": 97,
     "metadata": {},
     "output_type": "execute_result"
    }
   ],
   "execution_count": 97
  },
  {
   "cell_type": "code",
   "source": "print(model2)",
   "metadata": {
    "collapsed": false,
    "ExecuteTime": {
     "end_time": "2024-05-21T12:39:29.312440Z",
     "start_time": "2024-05-21T12:39:29.309948Z"
    }
   },
   "id": "aa211cf8c52b213f",
   "outputs": [
    {
     "name": "stdout",
     "output_type": "stream",
     "text": [
      "experts-problem-1:\n",
      "MINIMIZE\n",
      "1*c + 0\n",
      "SUBJECT TO\n",
      "_C1: - c - p0_1 - p1_2 - p2_4 - p3_8 <= -4\n",
      "\n",
      "_C2: - c - p0_1 - p1_2 - p2_4 + p3_8 <= -2\n",
      "\n",
      "_C3: - c - p0_1 - p1_2 + p2_4 - p3_9 <= -2\n",
      "\n",
      "_C4: - c - p0_1 - p1_2 + p2_4 + p3_9 <= 0\n",
      "\n",
      "_C5: - c - p0_1 + p1_2 - p2_5 - p3_10 <= -2\n",
      "\n",
      "_C6: - c - p0_1 + p1_2 - p2_5 + p3_10 <= 0\n",
      "\n",
      "_C7: - c - p0_1 + p1_2 + p2_5 - p3_11 <= 0\n",
      "\n",
      "_C8: - c - p0_1 + p1_2 + p2_5 + p3_11 <= 0\n",
      "\n",
      "_C9: - c + p0_1 - p1_3 - p2_6 - p3_12 <= -2\n",
      "\n",
      "_C10: - c + p0_1 - p1_3 - p2_6 + p3_12 <= 0\n",
      "\n",
      "_C11: - c + p0_1 - p1_3 + p2_6 - p3_13 <= 0\n",
      "\n",
      "_C12: - c + p0_1 - p1_3 + p2_6 + p3_13 <= 0\n",
      "\n",
      "_C13: - c + p0_1 + p1_3 - p2_7 - p3_14 <= 0\n",
      "\n",
      "_C14: - c + p0_1 + p1_3 - p2_7 + p3_14 <= 0\n",
      "\n",
      "_C15: - c + p0_1 + p1_3 + p2_7 - p3_15 <= 0\n",
      "\n",
      "_C16: - c + p0_1 + p1_3 + p2_7 + p3_15 <= 0\n",
      "\n",
      "VARIABLES\n",
      "c free Continuous\n",
      "p0_1 <= 1 Continuous\n",
      "p1_2 <= 1 Continuous\n",
      "p1_3 <= 1 Continuous\n",
      "p2_4 <= 1 Continuous\n",
      "p2_5 <= 1 Continuous\n",
      "p2_6 <= 1 Continuous\n",
      "p2_7 <= 1 Continuous\n",
      "p3_10 <= 1 Continuous\n",
      "p3_11 <= 1 Continuous\n",
      "p3_12 <= 1 Continuous\n",
      "p3_13 <= 1 Continuous\n",
      "p3_14 <= 1 Continuous\n",
      "p3_15 <= 1 Continuous\n",
      "p3_8 <= 1 Continuous\n",
      "p3_9 <= 1 Continuous\n",
      "\n"
     ]
    }
   ],
   "execution_count": 98
  },
  {
   "metadata": {
    "ExecuteTime": {
     "end_time": "2024-05-21T12:39:29.314990Z",
     "start_time": "2024-05-21T12:39:29.313163Z"
    }
   },
   "cell_type": "code",
   "source": "print(f\"Optimal value of c: {c.value()}\")",
   "id": "b4b2400b451d31fb",
   "outputs": [
    {
     "name": "stdout",
     "output_type": "stream",
     "text": [
      "Optimal value of c: 0.75\n"
     ]
    }
   ],
   "execution_count": 99
  },
  {
   "cell_type": "code",
   "source": [
    "root.print_tree()"
   ],
   "metadata": {
    "collapsed": false,
    "ExecuteTime": {
     "end_time": "2024-05-21T12:39:29.317674Z",
     "start_time": "2024-05-21T12:39:29.316082Z"
    }
   },
   "id": "1dd5e0995197aead",
   "outputs": [
    {
     "name": "stdout",
     "output_type": "stream",
     "text": [
      "│                                               ┌───────────── - 4_31\n",
      "│                                   ┌───────────── - 3_15(0)\n",
      "│                                   │           └───────────── - 4_30\n",
      "│                       ┌───────────── - 2_7(0)\n",
      "│                       │           │           ┌───────────── - 4_29\n",
      "│                       │           └───────────── - 3_14(0)\n",
      "│                       │                       └───────────── - 4_28\n",
      "│           ┌───────────── - 1_3(1/4)\n",
      "│           │           │                       ┌───────────── - 4_27\n",
      "│           │           │           ┌───────────── - 3_13(0)\n",
      "│           │           │           │           └───────────── - 4_26\n",
      "│           │           └───────────── - 2_6(1/2)\n",
      "│           │                       │           ┌───────────── - 4_25\n",
      "│           │                       └───────────── - 3_12(1)\n",
      "│           │                                   └───────────── - 4_24\n",
      "└───────────── - 0_1(1/2)\n",
      "            │                                   ┌───────────── - 4_23\n",
      "            │                       ┌───────────── - 3_11(0)\n",
      "            │                       │           └───────────── - 4_22\n",
      "            │           ┌───────────── - 2_5(1/2)\n",
      "            │           │           │           ┌───────────── - 4_21\n",
      "            │           │           └───────────── - 3_10(1)\n",
      "            │           │                       └───────────── - 4_20\n",
      "            └───────────── - 1_2(3/4)\n",
      "                        │                       ┌───────────── - 4_19\n",
      "                        │           ┌───────────── - 3_9(1)\n",
      "                        │           │           └───────────── - 4_18\n",
      "                        └───────────── - 2_4(1)\n",
      "                                    │           ┌───────────── - 4_17\n",
      "                                    └───────────── - 3_8(1)\n",
      "                                                └───────────── - 4_16\n"
     ]
    }
   ],
   "execution_count": 100
  },
  {
   "cell_type": "markdown",
   "source": [
    "New model - if e1 was right he receives 1 coin, if e2 was right he receives 2 coins"
   ],
   "metadata": {
    "collapsed": false
   },
   "id": "45e3872b2c25af95"
  },
  {
   "cell_type": "code",
   "source": [
    "def get_root_model_matrix(T, correct_left_r, correct_right_r):\n",
    "    root = generate_full_binary_tree(T)\n",
    "    c = LpVariable(name=\"c\")\n",
    "    model = LpProblem(sense=LpMinimize)\n",
    "    expressions = get_lp_expressions(root, correct_left_r, correct_right_r, LpAffineExpression(), LpAffineExpression())\n",
    "    constraints = get_lp_constraints(expressions, c) \n",
    "    model += c\n",
    "    for constraint in constraints:\n",
    "        model += constraint\n",
    "    model.solve(PULP_CBC_CMD(msg=False))\n",
    "    print(f\"Optimal value of c: {c.value()}\")\n",
    "    mat, str_mat = get_values_matrix(root, T, correct_left_r + correct_right_r)\n",
    "    return root, model, mat, str_mat\n",
    "\n",
    "\n",
    "def print_matrix(matrix):\n",
    "    # Determine the maximum width of the elements in each column for proper alignment\n",
    "    col_widths = []\n",
    "    for col_idx in range(len(matrix[0])):\n",
    "        max_width = max(\n",
    "            len(str(matrix[row_idx][col_idx])) if matrix[row_idx][col_idx] is not None else 0\n",
    "            for row_idx in range(len(matrix))\n",
    "        )\n",
    "        col_widths.append(max_width)\n",
    "\n",
    "    # Header for the columns\n",
    "    row_index_max_length = len(str(len(matrix) - 1))\n",
    "    \n",
    "    # Prepare the header row with less initial spacing\n",
    "    header_row = \" \" * (row_index_max_length + 1) + \"| \" + \" | \".join(f\"{str(i).rjust(col_widths[i])}\" for i in range(len(matrix[0])))\n",
    "    print(header_row)\n",
    "    \n",
    "    print(\"-\" * len(header_row))  # Separator\n",
    "\n",
    "    # Print the matrix row by row, aligning each element according to the maximum column width\n",
    "    for row_idx, row in enumerate(matrix):\n",
    "        row_str = f\"{str(row_idx).ljust(len(str(len(matrix) - 1)), ' ')} | \" + \" | \".join(\n",
    "            f\"{str(item).rjust(col_widths[col_idx])}\" if item is not None else \" \" * col_widths[col_idx]\n",
    "            for col_idx, item in enumerate(row)\n",
    "        )\n",
    "        print(row_str)\n",
    "\n",
    "def create_fraction_with_specific_denominator(value, denominator):\n",
    "    \"\"\"\n",
    "    Create a fraction representation from a value with a specific denominator.\n",
    "    This function does not reduce the fraction.\n",
    "    \"\"\"\n",
    "    # Convert value to a fraction\n",
    "    fraction = Fraction(value)\n",
    "    # Calculate the numerator that would correspond to the specific denominator\n",
    "    numerator = int(fraction.numerator * denominator / fraction.denominator)\n",
    "    return f\"{numerator}/{denominator}\"\n",
    "\n",
    "\n",
    "def dfs_fill_matrix(node, matrix, T, base_denominator, left_moves=0, right_moves=0, is_str_mat = False):\n",
    "    \"\"\"\n",
    "    DFS traversal to fill the matrix with node values based on left and right moves,\n",
    "    adjusting each fraction to have a denominator of 4^(T-r-l).\n",
    "    \"\"\"\n",
    "    if node.get_left_child() is None:\n",
    "        return\n",
    "    \n",
    "    # Calculate the fraction with the desired denominator\n",
    "    desired_denominator = base_denominator ** (T - left_moves - right_moves)\n",
    "    # Convert the node's value to a fraction\n",
    "    if is_str_mat:\n",
    "        value = create_fraction_with_specific_denominator(node.lp_variable.value(), desired_denominator)\n",
    "    else:\n",
    "        value = node.lp_variable.value()\n",
    "    \n",
    "    # Fill the matrix cell corresponding to the number of left and right moves\n",
    "    matrix[left_moves][right_moves] = value\n",
    "    \n",
    "    # Recursively visit left child with incremented left_moves\n",
    "    dfs_fill_matrix(node.get_left_child(), matrix, T, base_denominator, left_moves + 1, right_moves, is_str_mat)\n",
    "    \n",
    "    # Recursively visit right child with incremented right_moves\n",
    "    dfs_fill_matrix(node.get_right_child(), matrix, T, base_denominator, left_moves, right_moves + 1, is_str_mat)\n",
    "\n",
    "\n",
    "\n",
    "def get_values_matrix(root, T, base_denominator):\n",
    "    \"\"\"\n",
    "    Create and fill a matrix based on the given tree depth T.\n",
    "    \"\"\"\n",
    "    # Create an empty matrix of size (T+1) x (T+1)\n",
    "    str_matrix = np.empty((T + 1, T + 1), dtype=object)\n",
    "    \n",
    "    # Fill the matrix using DFS\n",
    "    dfs_fill_matrix(root, str_matrix, T, base_denominator=base_denominator, is_str_mat=True)\n",
    "    \n",
    "    matrix = np.empty((T + 1, T + 1), dtype=float)\n",
    "    \n",
    "    dfs_fill_matrix(root, matrix, T, base_denominator=base_denominator, is_str_mat=False)\n",
    "    \n",
    "    return matrix, str_matrix\n",
    "\n"
   ],
   "metadata": {
    "collapsed": false,
    "ExecuteTime": {
     "end_time": "2024-05-21T12:39:29.323909Z",
     "start_time": "2024-05-21T12:39:29.318311Z"
    }
   },
   "id": "766997076f054811",
   "outputs": [],
   "execution_count": 101
  },
  {
   "cell_type": "code",
   "source": [],
   "metadata": {
    "collapsed": false,
    "ExecuteTime": {
     "end_time": "2024-05-21T12:39:29.326016Z",
     "start_time": "2024-05-21T12:39:29.324620Z"
    }
   },
   "id": "1c7c83c1d2240aff",
   "outputs": [],
   "execution_count": 101
  },
  {
   "cell_type": "code",
   "source": [
    "\n",
    "root, model, mat, str_mat = get_root_model_matrix(13, correct_left_r=1, correct_right_r=1)\n",
    "print_matrix(str_mat)\n"
   ],
   "metadata": {
    "collapsed": false,
    "ExecuteTime": {
     "end_time": "2024-05-21T12:39:32.410790Z",
     "start_time": "2024-05-21T12:39:29.326904Z"
    }
   },
   "id": "7b82df48d64afece",
   "outputs": [
    {
     "name": "stdout",
     "output_type": "stream",
     "text": [
      "Optimal value of c: 1.4663086\n",
      "   |         0 |         1 |        2 |        3 |      4 |     5 |     6 |    7 |    8 |    9 |  10 |  11 |  12 | 13\n",
      "---------------------------------------------------------------------------------------------------------------------\n",
      "0  | 4096/8192 | 1585/4096 | 561/2048 | 176/1024 | 46/512 | 9/256 | 1/128 | 0/64 | 0/32 | 0/16 | 0/8 | 0/4 | 0/2 | \n",
      "1  | 2510/4096 | 1024/2048 | 385/1024 |  130/512 | 37/256 | 8/128 |  1/64 | 0/32 | 0/16 |  0/8 | 0/4 | 0/2 |     | \n",
      "2  | 1486/2048 |  638/1024 |  256/512 |   93/256 | 29/128 |  7/64 |  1/32 | 0/16 |  0/8 |  0/4 | 0/2 |     |     | \n",
      "3  |  848/1024 |   382/512 |  163/256 |   64/128 |  22/64 |  6/32 |  1/16 |  0/8 |  0/4 |  0/2 |     |     |     | \n",
      "4  |   466/512 |   219/256 |   99/128 |    42/64 |  16/32 |  5/16 |   1/8 |  0/4 |  0/2 |      |     |     |     | \n",
      "5  |   247/256 |   120/128 |    57/64 |    26/32 |  11/16 |   4/8 |   1/4 |  0/2 |      |      |     |     |     | \n",
      "6  |   127/128 |     63/64 |    31/32 |    15/16 |    7/8 |   3/4 |   1/2 |      |      |      |     |     |     | \n",
      "7  |     64/64 |     32/32 |    16/16 |      8/8 |    4/4 |   2/2 |       |      |      |      |     |     |     | \n",
      "8  |     32/32 |     16/16 |      8/8 |      4/4 |    2/2 |       |       |      |      |      |     |     |     | \n",
      "9  |     16/16 |       8/8 |      4/4 |      2/2 |        |       |       |      |      |      |     |     |     | \n",
      "10 |       8/8 |       4/4 |      2/2 |          |        |       |       |      |      |      |     |     |     | \n",
      "11 |       4/4 |       2/2 |          |          |        |       |       |      |      |      |     |     |     | \n",
      "12 |       2/2 |           |          |          |        |       |       |      |      |      |     |     |     | \n",
      "13 |           |           |          |          |        |       |       |      |      |      |     |     |     | \n"
     ]
    }
   ],
   "execution_count": 102
  },
  {
   "cell_type": "code",
   "source": [],
   "metadata": {
    "collapsed": false,
    "ExecuteTime": {
     "end_time": "2024-05-21T12:39:32.413426Z",
     "start_time": "2024-05-21T12:39:32.411757Z"
    }
   },
   "id": "a94d850331835efa",
   "outputs": [],
   "execution_count": 102
  },
  {
   "cell_type": "code",
   "source": [
    "correct_left_r = 1\n",
    "correct_right_r = 3\n",
    "for i in range(0, 4):\n",
    "    T = 1 + i * (correct_left_r + correct_right_r)\n",
    "    print(f\"******   T = {T} , correct_left_r = {correct_left_r}, correct_right_r = {correct_right_r}  ******\")\n",
    "    root_3, model_3, mat_3, mat_3_str = get_root_model_matrix(T=T, correct_left_r=correct_left_r, correct_right_r=correct_right_r)\n",
    "    print(\"\")\n",
    "    print_matrix(mat_3)\n",
    "    print(\"\\n\\n\")"
   ],
   "metadata": {
    "collapsed": false,
    "ExecuteTime": {
     "end_time": "2024-05-21T12:39:34.954690Z",
     "start_time": "2024-05-21T12:39:32.414061Z"
    }
   },
   "id": "2baa3069493888f9",
   "outputs": [
    {
     "name": "stdout",
     "output_type": "stream",
     "text": [
      "******   T = 1 , correct_left_r = 1, correct_right_r = 3  ******\n",
      "Optimal value of c: 0.75\n",
      "\n",
      "  |     0 |    1\n",
      "----------------\n",
      "0 |  0.25 | -3.0\n",
      "1 | 116.5 | 11.0\n",
      "\n",
      "\n",
      "\n",
      "******   T = 5 , correct_left_r = 1, correct_right_r = 3  ******\n",
      "Optimal value of c: 1.5820312\n",
      "\n",
      "  |          0 |          1 |   2 |   3 |   4 |   5\n",
      "---------------------------------------------------\n",
      "0 |   0.421875 | 0.10546875 | 0.0 | 0.0 | 0.0 | 0.0\n",
      "1 | 0.52734375 |   0.140625 | 0.0 | 0.0 | 0.0 | 0.0\n",
      "2 |    0.65625 |     0.1875 | 0.0 | 0.0 | 0.0 | 0.0\n",
      "3 |     0.8125 |       0.25 | 0.0 | 0.0 | 0.0 | 0.0\n",
      "4 |        1.0 |        0.0 | 0.0 | 0.0 | 0.0 | 0.0\n",
      "5 |        0.0 |        0.0 | 0.0 | 0.0 | 0.0 | 0.0\n",
      "\n",
      "\n",
      "\n",
      "******   T = 9 , correct_left_r = 1, correct_right_r = 3  ******\n",
      "Optimal value of c: 2.1023712\n",
      "\n",
      "  |          0 |          1 |           2 |   3 |   4 |   5 |   6 |   7 |   8 |   9\n",
      "-----------------------------------------------------------------------------------\n",
      "0 | 0.44494629 | 0.21134949 | 0.044494629 | 0.0 | 0.0 | 0.0 | 0.0 | 0.0 | 0.0 | 0.0\n",
      "1 | 0.52281189 | 0.26696777 | 0.059326172 | 0.0 | 0.0 | 0.0 | 0.0 | 0.0 | 0.0 | 0.0\n",
      "2 | 0.60809326 | 0.33618164 | 0.079101562 | 0.0 | 0.0 | 0.0 | 0.0 | 0.0 | 0.0 | 0.0\n",
      "3 | 0.69873047 |   0.421875 |  0.10546875 | 0.0 | 0.0 | 0.0 | 0.0 | 0.0 | 0.0 | 0.0\n",
      "4 | 0.79101562 | 0.52734375 |    0.140625 | 0.0 | 0.0 | 0.0 | 0.0 | 0.0 | 0.0 | 0.0\n",
      "5 | 0.87890625 |    0.65625 |      0.1875 | 0.0 | 0.0 | 0.0 | 0.0 | 0.0 | 0.0 | 0.0\n",
      "6 |   0.953125 |     0.8125 |        0.25 | 0.0 | 0.0 | 0.0 | 0.0 | 0.0 | 0.0 | 0.0\n",
      "7 |        1.0 |        1.0 |         0.0 | 0.0 | 0.0 | 0.0 | 0.0 | 0.0 | 0.0 | 0.0\n",
      "8 |        1.0 |        0.0 |         0.0 | 0.0 | 0.0 | 0.0 | 0.0 | 0.0 | 0.0 | 0.0\n",
      "9 |        0.0 |        0.0 |         0.0 | 0.0 | 0.0 | 0.0 | 0.0 | 0.0 | 0.0 | 0.0\n",
      "\n",
      "\n",
      "\n",
      "******   T = 13 , correct_left_r = 1, correct_right_r = 3  ******\n",
      "Optimal value of c: 2.5165102\n",
      "\n",
      "   |          0 |          1 |          2 |                 3 |                 4 |                 5 |                 6 |                 7 |                 8 |                 9 |                10 |                11 |                12 |                      13\n",
      "---------------------------------------------------------------------------------------------------------------------------------------------------------------------------------------------------------------------------------------------------------------------------\n",
      "0  | 0.45520091 |  0.2616232 | 0.10324144 |       0.018771172 |               0.0 |               0.0 |               0.0 |     3.7826187e-15 |     1.5610072e-14 |     6.2604219e-14 |     2.5004087e-13 |               0.0 |     9.9995272e-13 | 1.0861555044629841e-187\n",
      "1  | 0.51972681 | 0.31441712 |  0.1313982 |       0.025028229 |               0.0 |     3.9955018e-15 |     3.9955018e-15 |               0.0 |               0.0 |               0.0 |               0.0 |               0.0 |  2.389838493e-314 |        2.135541889e-314\n",
      "2  | 0.58816338 | 0.37542343 | 0.16685486 |       0.033370972 |               0.0 |               0.0 |               0.0 |               0.0 |               0.0 |               0.0 |               0.0 |  2.135541889e-314 |  2.389838714e-314 |        2.135541889e-314\n",
      "3  | 0.65907669 | 0.44494629 | 0.21134949 |       0.044494629 |               0.0 |               0.0 |               0.0 |               0.0 |               0.0 |               0.0 |  2.389838904e-314 |  2.135541889e-314 | 2.3898389356e-314 |        2.135541889e-314\n",
      "4  | 0.73045349 | 0.52281189 | 0.26696777 |       0.059326172 |               0.0 |               0.0 |               0.0 |               0.0 |               0.0 |  2.135541889e-314 | 2.3898391253e-314 |  2.135541889e-314 |  2.389839157e-314 |        2.135541889e-314\n",
      "5  | 0.79966736 | 0.60809326 | 0.33618164 |       0.079101563 |               0.0 |               0.0 |               0.0 |               0.0 |  2.389839315e-314 |  2.135541889e-314 | 2.3898393466e-314 |  2.135541889e-314 | 2.3898393782e-314 |        2.135541889e-314\n",
      "6  | 0.86352539 | 0.69873047 |   0.421875 |        0.10546875 |               0.0 |               0.0 |               0.0 | 2.1355419524e-314 | 2.3898395363e-314 | 2.1355419524e-314 |  2.389839568e-314 | 2.1355419524e-314 | 2.3898395996e-314 |       2.1355419524e-314\n",
      "7  | 0.91845703 | 0.79101562 | 0.52734375 |          0.140625 |               0.0 |               0.0 |  2.389839726e-314 | 2.1355419524e-314 | 2.3898397577e-314 | 2.1355419524e-314 | 2.3898397893e-314 | 2.1355419524e-314 |  2.389839821e-314 |       2.1355419524e-314\n",
      "8  |  0.9609375 | 0.87890625 |    0.65625 |            0.1875 |               0.0 | 2.1355419524e-314 | 2.3898399474e-314 | 2.1355419524e-314 |  2.389839979e-314 | 2.1355419524e-314 | 2.3898400107e-314 | 2.1355419524e-314 | 2.3898400423e-314 |       2.1355419524e-314\n",
      "9  | 0.98828125 |   0.953125 |     0.8125 |              0.25 |  2.389840137e-314 | 2.1355419524e-314 |  2.389840169e-314 | 2.1355419524e-314 | 2.3898402004e-314 | 2.1355419524e-314 |  2.389840232e-314 | 2.1355419524e-314 | 2.3898402636e-314 |       2.1355419524e-314\n",
      "10 |        1.0 |        1.0 |        1.0 | 2.1355419524e-314 | 2.3898403585e-314 | 2.1355419524e-314 |   2.38984039e-314 | 2.1355419524e-314 |               0.0 |               0.0 |               0.0 |               0.0 |               0.0 |                     0.0\n",
      "11 |        1.0 |        1.0 |        0.0 |               0.0 |               0.0 |               0.0 |               0.0 |               0.0 |               0.0 |               0.0 |               0.0 |               0.0 |               0.0 |                     0.0\n",
      "12 |        1.0 |        0.0 |        0.0 |               0.0 |               0.0 |               0.0 |               0.0 |               0.0 |               0.0 |               0.0 |               0.0 |               0.0 |               0.0 |                     0.0\n",
      "13 |        0.0 |        0.0 |        0.0 |               0.0 |               0.0 |               0.0 |               0.0 |               0.0 |  2.451453396e-314 | 2.4514534275e-314 | 2.1406661286e-314 |  2.451453434e-314 | 2.1405029683e-314 |        2.451453562e-314\n",
      "\n",
      "\n",
      "\n"
     ]
    }
   ],
   "execution_count": 103
  },
  {
   "cell_type": "code",
   "source": [
    "\n",
    "\n",
    "# Define the function to calculate regret\n",
    "def calc_regret(T):\n",
    "    w = math.floor(T / 2)\n",
    "    p = 0.5\n",
    "    regret = 0\n",
    "    for j in range(w):\n",
    "        regret += (1 - binom.cdf(w, T-j, p))\n",
    "    return regret\n",
    "\n",
    "# Generate values for T from 1 to 30\n",
    "T_values = np.arange(2, 600)\n",
    "\n",
    "# Calculate regret and sqrt(T) for each T\n",
    "regret_values = [calc_regret(T) for T in T_values]\n",
    "sqrt_T_values = np.sqrt(T_values)\n",
    "\n",
    "#create new arr of the regret values - (0.4 * sqrt(T))\n",
    "# sqrt_T_fact = [0.4 * sqrt_T for sqrt_T in sqrt_T_values]\n",
    "\n",
    "\n",
    "\n",
    "\n",
    "# Plotting\n",
    "plt.figure(figsize=(10, 6))\n",
    "plt.plot(T_values, regret_values, label='Regret(T)', marker='o')\n",
    "plt.plot(T_values, sqrt_T_values, label='sqrt(T)', linestyle='--')\n",
    "plt.plot(T_values, sqrt_T_values/regret_values, label='sqrt(T)/Regret(T)', linestyle='--')\n",
    "plt.title('Regret(T) and sqrt(T) as functions of T')\n",
    "plt.xlabel('T')\n",
    "plt.ylabel('Value')\n",
    "plt.legend()\n",
    "plt.grid(True)\n",
    "plt.show()"
   ],
   "metadata": {
    "collapsed": false,
    "ExecuteTime": {
     "end_time": "2024-05-21T12:39:38.091170Z",
     "start_time": "2024-05-21T12:39:34.957316Z"
    }
   },
   "id": "6adadf6ec7ae6f94",
   "outputs": [
    {
     "data": {
      "text/plain": [
       "<Figure size 1000x600 with 1 Axes>"
      ],
      "image/png": "[encoded data removed]"
     },
     "metadata": {},
     "output_type": "display_data"
    }
   ],
   "execution_count": 104
  },
  {
   "metadata": {
    "ExecuteTime": {
     "end_time": "2024-05-21T12:39:38.099588Z",
     "start_time": "2024-05-21T12:39:38.095173Z"
    }
   },
   "cell_type": "code",
   "source": [
    "print(regret_values[len(T_values) - 1]/sqrt_T_values[len(T_values) - 1])\n",
    "print(1/math.sqrt(2*math.pi))"
   ],
   "id": "6ad46db28752bab3",
   "outputs": [
    {
     "name": "stdout",
     "output_type": "stream",
     "text": [
      "0.39910881853094987\n",
      "0.3989422804014327\n"
     ]
    }
   ],
   "execution_count": 105
  },
  {
   "metadata": {
    "ExecuteTime": {
     "end_time": "2024-05-21T12:39:38.108417Z",
     "start_time": "2024-05-21T12:39:38.102887Z"
    }
   },
   "cell_type": "code",
   "source": [
    "\n",
    "def s_hat(x):\n",
    "    # Placeholder function for s_hat. Modify this according to the actual definition.\n",
    "    # Example implementation (needs to be replaced with actual implementation):\n",
    "    return np.max([x, 1-x])\n",
    "\n",
    "def p_k(i, k, n):\n",
    "    \"\"\"\n",
    "    Compute the value of p_k(i) based on the given formula.\n",
    "    \n",
    "    Parameters:\n",
    "    - i (int): the index i in the formula.\n",
    "    - k (int): the index k in the formula.\n",
    "    - n (int): the total number of terms n in the formula.\n",
    "\n",
    "    Returns:\n",
    "    - float: the computed value of p_k(i).\n",
    "    \"\"\"\n",
    "    sum_result = 0\n",
    "    for j in range(n - k + 1):\n",
    "        s_hat_plus = s_hat(float(i + j + 1) / n)\n",
    "        s_hat_current = s_hat(float(i + j) / n)\n",
    "        sum_result += (s_hat_plus - s_hat_current) * comb(n - k, j, exact=True)\n",
    "    bk_i = (math.pow(0.5, n-k+1)) * sum_result\n",
    "    p_hat_k_i = 0.5 + n * bk_i\n",
    "    return p_hat_k_i\n",
    "\n",
    "\n",
    "def get_direct_calc_mat(n):\n",
    "    direct_calc_mat = np.empty((n + 1, n + 1), dtype=float)\n",
    "    for k in range(1, n + 1):\n",
    "        for i in range(k):\n",
    "            direct_calc_mat[i, k-i-1] = p_k(i, k, n)\n",
    "    return direct_calc_mat\n",
    "\n",
    "\n"
   ],
   "id": "c8500e43912ed341",
   "outputs": [],
   "execution_count": 106
  },
  {
   "metadata": {
    "ExecuteTime": {
     "end_time": "2024-05-21T12:39:38.118488Z",
     "start_time": "2024-05-21T12:39:38.112165Z"
    }
   },
   "cell_type": "code",
   "source": [
    "n = 9\n",
    "direct_calc_mat = get_direct_calc_mat(n)\n",
    "print_matrix(direct_calc_mat)"
   ],
   "id": "81ba951e78256736",
   "outputs": [
    {
     "name": "stdout",
     "output_type": "stream",
     "text": [
      "  |                   0 |                   1 |                   2 |                   3 |                   4 |                      5 |                      6 |                      7 |                      8 |   9\n",
      "-------------------------------------------------------------------------------------------------------------------------------------------------------------------------------------------------------------------------\n",
      "0 | 0.49999999999999994 |          0.36328125 |           0.2265625 | 0.10937500000000006 | 0.03125000000000011 | 1.6653345369377348e-16 | 1.6653345369377348e-16 |                    0.0 | -2.220446049250313e-16 | 0.0\n",
      "1 |  0.6367187499999999 | 0.49999999999999994 | 0.34374999999999994 |              0.1875 | 0.06250000000000006 | 1.6653345369377348e-16 | 2.7755575615628914e-16 | 2.7755575615628914e-16 |                    0.0 | 0.0\n",
      "2 |           0.7734375 |  0.6562499999999999 |  0.4999999999999999 |  0.3124999999999999 | 0.12499999999999994 |                    0.0 | 2.7755575615628914e-16 |                    0.0 |                    0.0 | 0.0\n",
      "3 |            0.890625 |  0.8124999999999999 |  0.6874999999999999 |  0.4999999999999999 |  0.2499999999999999 | -2.220446049250313e-16 |                    0.0 |                    0.0 |                    0.0 | 0.0\n",
      "4 |             0.96875 |              0.9375 |  0.8749999999999999 |  0.7499999999999999 |                 0.5 |                    0.0 |                    0.0 |                    0.0 |                    0.0 | 0.0\n",
      "5 |                 1.0 |                 1.0 |                 1.0 |  0.9999999999999998 |                 0.0 |                    0.0 |                    0.0 |                    0.0 |                    0.0 | 0.0\n",
      "6 |                 1.0 |                 1.0 |  1.0000000000000002 |                 0.0 |                 0.0 |                    0.0 |                    0.0 |                    0.0 |                    0.0 | 0.0\n",
      "7 |                 1.0 |  0.9999999999999998 |                 0.0 |                 0.0 |                 0.0 |                    0.0 |                    0.0 |                    0.0 |                    0.0 | 0.0\n",
      "8 |  1.0000000000000002 |                 0.0 |                 0.0 |                 0.0 |                 0.0 |                    0.0 |                    0.0 |                    0.0 |                    0.0 | 0.0\n",
      "9 |                 0.0 |                 0.0 |                 0.0 |                 0.0 |                 0.0 |                    0.0 |                    0.0 |                    0.0 |                    0.0 | 0.0\n"
     ]
    }
   ],
   "execution_count": 107
  },
  {
   "cell_type": "code",
   "source": [
    "root, model, mat, str_mat = get_root_model_matrix(n, correct_left_r=1, correct_right_r=1)\n",
    "print_matrix(mat)"
   ],
   "metadata": {
    "collapsed": false,
    "ExecuteTime": {
     "end_time": "2024-05-21T12:39:38.215039Z",
     "start_time": "2024-05-21T12:39:38.121724Z"
    }
   },
   "id": "7e0599b5b0affcb5",
   "outputs": [
    {
     "name": "stdout",
     "output_type": "stream",
     "text": [
      "Optimal value of c: 1.2304688\n",
      "  |          0 |          1 |         2 |        3 |       4 |   5 |   6 |   7 |   8 |   9\n",
      "------------------------------------------------------------------------------------------\n",
      "0 |        0.5 | 0.36328125 | 0.2265625 | 0.109375 | 0.03125 | 0.0 | 0.0 | 0.0 | 0.0 | 0.0\n",
      "1 | 0.63671875 |        0.5 |   0.34375 |   0.1875 |  0.0625 | 0.0 | 0.0 | 0.0 | 0.0 | 0.0\n",
      "2 |  0.7734375 |    0.65625 |       0.5 |   0.3125 |   0.125 | 0.0 | 0.0 | 0.0 | 0.0 | 0.0\n",
      "3 |   0.890625 |     0.8125 |    0.6875 |      0.5 |    0.25 | 0.0 | 0.0 | 0.0 | 0.0 | 0.0\n",
      "4 |    0.96875 |     0.9375 |     0.875 |     0.75 |     0.5 | 0.0 | 0.0 | 0.0 | 0.0 | 0.0\n",
      "5 |        1.0 |        1.0 |       1.0 |      1.0 |     0.0 | 0.0 | 0.0 | 0.0 | 0.0 | 0.0\n",
      "6 |        1.0 |        1.0 |       1.0 |      0.0 |     0.0 | 0.0 | 0.0 | 0.0 | 0.0 | 0.0\n",
      "7 |        1.0 |        1.0 |       0.0 |      0.0 |     0.0 | 0.0 | 0.0 | 0.0 | 0.0 | 0.0\n",
      "8 |        1.0 |        0.0 |       0.0 |      0.0 |     0.0 | 0.0 | 0.0 | 0.0 | 0.0 | 0.0\n",
      "9 |        0.0 |        0.0 |       0.0 |      0.0 |     0.0 | 0.0 | 0.0 | 0.0 | 0.0 | 0.0\n"
     ]
    }
   ],
   "execution_count": 108
  },
  {
   "cell_type": "code",
   "source": [
    "diff_mat = mat - direct_calc_mat\n",
    "print(np.sum([np.where(diff_mat > 0.0001)]))"
   ],
   "metadata": {
    "collapsed": false,
    "ExecuteTime": {
     "end_time": "2024-05-21T12:39:38.218287Z",
     "start_time": "2024-05-21T12:39:38.215886Z"
    }
   },
   "id": "912ba89b190880c9",
   "outputs": [
    {
     "name": "stdout",
     "output_type": "stream",
     "text": [
      "0\n"
     ]
    }
   ],
   "execution_count": 109
  },
  {
   "cell_type": "markdown",
   "source": "",
   "metadata": {
    "collapsed": false
   },
   "id": "a55af1fc6baabbf1"
  },
  {
   "metadata": {
    "ExecuteTime": {
     "end_time": "2024-05-21T12:39:38.220466Z",
     "start_time": "2024-05-21T12:39:38.219080Z"
    }
   },
   "cell_type": "code",
   "source": "",
   "id": "3eb0e8d1dc68b4f7",
   "outputs": [],
   "execution_count": 109
  }
 ],
 "metadata": {
  "kernelspec": {
   "display_name": "Python 3",
   "language": "python",
   "name": "python3"
  },
  "language_info": {
   "codemirror_mode": {
    "name": "ipython",
    "version": 2
   },
   "file_extension": ".py",
   "mimetype": "text/x-python",
   "name": "python",
   "nbconvert_exporter": "python",
   "pygments_lexer": "ipython2",
   "version": "2.7.6"
  }
 },
 "nbformat": 4,
 "nbformat_minor": 5
}
